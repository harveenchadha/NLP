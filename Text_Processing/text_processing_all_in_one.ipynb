{
  "nbformat": 4,
  "nbformat_minor": 0,
  "metadata": {
    "kernelspec": {
      "display_name": "Python [conda env:nlpnd]",
      "language": "python",
      "name": "conda-env-nlpnd-py"
    },
    "language_info": {
      "codemirror_mode": {
        "name": "ipython",
        "version": 3
      },
      "file_extension": ".py",
      "mimetype": "text/x-python",
      "name": "python",
      "nbconvert_exporter": "python",
      "pygments_lexer": "ipython3",
      "version": "3.5.4"
    },
    "colab": {
      "name": "text_processing.ipynb",
      "provenance": []
    }
  },
  "cells": [
    {
      "cell_type": "markdown",
      "metadata": {
        "id": "_hCMXNAn1zzh",
        "colab_type": "text"
      },
      "source": [
        "# Text Processing\n",
        "\n",
        "## Capturing Text Data\n",
        "\n",
        "### Plain Text"
      ]
    },
    {
      "cell_type": "code",
      "metadata": {
        "id": "ITtPmaMe1zzk",
        "colab_type": "code",
        "colab": {
          "base_uri": "https://localhost:8080/",
          "height": 232
        },
        "outputId": "60a660fe-9590-4be5-aa14-03de1f6d6252"
      },
      "source": [
        "import os\n",
        "\n",
        "# Read in a plain text file\n",
        "with open(os.path.join(\".\", \"hieroglyph.txt\"), \"r\") as f:\n",
        "    text = f.read()\n",
        "    print(text)"
      ],
      "execution_count": 1,
      "outputs": [
        {
          "output_type": "error",
          "ename": "FileNotFoundError",
          "evalue": "ignored",
          "traceback": [
            "\u001b[0;31m---------------------------------------------------------------------------\u001b[0m",
            "\u001b[0;31mFileNotFoundError\u001b[0m                         Traceback (most recent call last)",
            "\u001b[0;32m<ipython-input-1-70675c24896b>\u001b[0m in \u001b[0;36m<module>\u001b[0;34m()\u001b[0m\n\u001b[1;32m      2\u001b[0m \u001b[0;34m\u001b[0m\u001b[0m\n\u001b[1;32m      3\u001b[0m \u001b[0;31m# Read in a plain text file\u001b[0m\u001b[0;34m\u001b[0m\u001b[0;34m\u001b[0m\u001b[0;34m\u001b[0m\u001b[0m\n\u001b[0;32m----> 4\u001b[0;31m \u001b[0;32mwith\u001b[0m \u001b[0mopen\u001b[0m\u001b[0;34m(\u001b[0m\u001b[0mos\u001b[0m\u001b[0;34m.\u001b[0m\u001b[0mpath\u001b[0m\u001b[0;34m.\u001b[0m\u001b[0mjoin\u001b[0m\u001b[0;34m(\u001b[0m\u001b[0;34m\".\"\u001b[0m\u001b[0;34m,\u001b[0m \u001b[0;34m\"hieroglyph.txt\"\u001b[0m\u001b[0;34m)\u001b[0m\u001b[0;34m,\u001b[0m \u001b[0;34m\"r\"\u001b[0m\u001b[0;34m)\u001b[0m \u001b[0;32mas\u001b[0m \u001b[0mf\u001b[0m\u001b[0;34m:\u001b[0m\u001b[0;34m\u001b[0m\u001b[0;34m\u001b[0m\u001b[0m\n\u001b[0m\u001b[1;32m      5\u001b[0m     \u001b[0mtext\u001b[0m \u001b[0;34m=\u001b[0m \u001b[0mf\u001b[0m\u001b[0;34m.\u001b[0m\u001b[0mread\u001b[0m\u001b[0;34m(\u001b[0m\u001b[0;34m)\u001b[0m\u001b[0;34m\u001b[0m\u001b[0;34m\u001b[0m\u001b[0m\n\u001b[1;32m      6\u001b[0m     \u001b[0mprint\u001b[0m\u001b[0;34m(\u001b[0m\u001b[0mtext\u001b[0m\u001b[0;34m)\u001b[0m\u001b[0;34m\u001b[0m\u001b[0;34m\u001b[0m\u001b[0m\n",
            "\u001b[0;31mFileNotFoundError\u001b[0m: [Errno 2] No such file or directory: './hieroglyph.txt'"
          ]
        }
      ]
    },
    {
      "cell_type": "markdown",
      "metadata": {
        "id": "_u3W48IO1zzo",
        "colab_type": "text"
      },
      "source": [
        "### Tabular Data"
      ]
    },
    {
      "cell_type": "code",
      "metadata": {
        "scrolled": true,
        "id": "Y3HQ35Zf1zzp",
        "colab_type": "code",
        "colab": {
          "base_uri": "https://localhost:8080/",
          "height": 426
        },
        "outputId": "8fac6e7a-b3ca-4a4d-99bb-9b7e25a3bee8"
      },
      "source": [
        "import pandas as pd\n",
        "\n",
        "# Extract text column from a dataframe\n",
        "df = pd.read_csv(os.path.join(\".\", \"news.csv\"))\n",
        "df.head()\n"
      ],
      "execution_count": 2,
      "outputs": [
        {
          "output_type": "error",
          "ename": "FileNotFoundError",
          "evalue": "ignored",
          "traceback": [
            "\u001b[0;31m---------------------------------------------------------------------------\u001b[0m",
            "\u001b[0;31mFileNotFoundError\u001b[0m                         Traceback (most recent call last)",
            "\u001b[0;32m<ipython-input-2-07ffea30e9bf>\u001b[0m in \u001b[0;36m<module>\u001b[0;34m()\u001b[0m\n\u001b[1;32m      2\u001b[0m \u001b[0;34m\u001b[0m\u001b[0m\n\u001b[1;32m      3\u001b[0m \u001b[0;31m# Extract text column from a dataframe\u001b[0m\u001b[0;34m\u001b[0m\u001b[0;34m\u001b[0m\u001b[0;34m\u001b[0m\u001b[0m\n\u001b[0;32m----> 4\u001b[0;31m \u001b[0mdf\u001b[0m \u001b[0;34m=\u001b[0m \u001b[0mpd\u001b[0m\u001b[0;34m.\u001b[0m\u001b[0mread_csv\u001b[0m\u001b[0;34m(\u001b[0m\u001b[0mos\u001b[0m\u001b[0;34m.\u001b[0m\u001b[0mpath\u001b[0m\u001b[0;34m.\u001b[0m\u001b[0mjoin\u001b[0m\u001b[0;34m(\u001b[0m\u001b[0;34m\".\"\u001b[0m\u001b[0;34m,\u001b[0m \u001b[0;34m\"news.csv\"\u001b[0m\u001b[0;34m)\u001b[0m\u001b[0;34m)\u001b[0m\u001b[0;34m\u001b[0m\u001b[0;34m\u001b[0m\u001b[0m\n\u001b[0m\u001b[1;32m      5\u001b[0m \u001b[0mdf\u001b[0m\u001b[0;34m.\u001b[0m\u001b[0mhead\u001b[0m\u001b[0;34m(\u001b[0m\u001b[0;34m)\u001b[0m\u001b[0;34m\u001b[0m\u001b[0;34m\u001b[0m\u001b[0m\n",
            "\u001b[0;32m/usr/local/lib/python3.6/dist-packages/pandas/io/parsers.py\u001b[0m in \u001b[0;36mparser_f\u001b[0;34m(filepath_or_buffer, sep, delimiter, header, names, index_col, usecols, squeeze, prefix, mangle_dupe_cols, dtype, engine, converters, true_values, false_values, skipinitialspace, skiprows, skipfooter, nrows, na_values, keep_default_na, na_filter, verbose, skip_blank_lines, parse_dates, infer_datetime_format, keep_date_col, date_parser, dayfirst, cache_dates, iterator, chunksize, compression, thousands, decimal, lineterminator, quotechar, quoting, doublequote, escapechar, comment, encoding, dialect, error_bad_lines, warn_bad_lines, delim_whitespace, low_memory, memory_map, float_precision)\u001b[0m\n\u001b[1;32m    683\u001b[0m         )\n\u001b[1;32m    684\u001b[0m \u001b[0;34m\u001b[0m\u001b[0m\n\u001b[0;32m--> 685\u001b[0;31m         \u001b[0;32mreturn\u001b[0m \u001b[0m_read\u001b[0m\u001b[0;34m(\u001b[0m\u001b[0mfilepath_or_buffer\u001b[0m\u001b[0;34m,\u001b[0m \u001b[0mkwds\u001b[0m\u001b[0;34m)\u001b[0m\u001b[0;34m\u001b[0m\u001b[0;34m\u001b[0m\u001b[0m\n\u001b[0m\u001b[1;32m    686\u001b[0m \u001b[0;34m\u001b[0m\u001b[0m\n\u001b[1;32m    687\u001b[0m     \u001b[0mparser_f\u001b[0m\u001b[0;34m.\u001b[0m\u001b[0m__name__\u001b[0m \u001b[0;34m=\u001b[0m \u001b[0mname\u001b[0m\u001b[0;34m\u001b[0m\u001b[0;34m\u001b[0m\u001b[0m\n",
            "\u001b[0;32m/usr/local/lib/python3.6/dist-packages/pandas/io/parsers.py\u001b[0m in \u001b[0;36m_read\u001b[0;34m(filepath_or_buffer, kwds)\u001b[0m\n\u001b[1;32m    455\u001b[0m \u001b[0;34m\u001b[0m\u001b[0m\n\u001b[1;32m    456\u001b[0m     \u001b[0;31m# Create the parser.\u001b[0m\u001b[0;34m\u001b[0m\u001b[0;34m\u001b[0m\u001b[0;34m\u001b[0m\u001b[0m\n\u001b[0;32m--> 457\u001b[0;31m     \u001b[0mparser\u001b[0m \u001b[0;34m=\u001b[0m \u001b[0mTextFileReader\u001b[0m\u001b[0;34m(\u001b[0m\u001b[0mfp_or_buf\u001b[0m\u001b[0;34m,\u001b[0m \u001b[0;34m**\u001b[0m\u001b[0mkwds\u001b[0m\u001b[0;34m)\u001b[0m\u001b[0;34m\u001b[0m\u001b[0;34m\u001b[0m\u001b[0m\n\u001b[0m\u001b[1;32m    458\u001b[0m \u001b[0;34m\u001b[0m\u001b[0m\n\u001b[1;32m    459\u001b[0m     \u001b[0;32mif\u001b[0m \u001b[0mchunksize\u001b[0m \u001b[0;32mor\u001b[0m \u001b[0miterator\u001b[0m\u001b[0;34m:\u001b[0m\u001b[0;34m\u001b[0m\u001b[0;34m\u001b[0m\u001b[0m\n",
            "\u001b[0;32m/usr/local/lib/python3.6/dist-packages/pandas/io/parsers.py\u001b[0m in \u001b[0;36m__init__\u001b[0;34m(self, f, engine, **kwds)\u001b[0m\n\u001b[1;32m    893\u001b[0m             \u001b[0mself\u001b[0m\u001b[0;34m.\u001b[0m\u001b[0moptions\u001b[0m\u001b[0;34m[\u001b[0m\u001b[0;34m\"has_index_names\"\u001b[0m\u001b[0;34m]\u001b[0m \u001b[0;34m=\u001b[0m \u001b[0mkwds\u001b[0m\u001b[0;34m[\u001b[0m\u001b[0;34m\"has_index_names\"\u001b[0m\u001b[0;34m]\u001b[0m\u001b[0;34m\u001b[0m\u001b[0;34m\u001b[0m\u001b[0m\n\u001b[1;32m    894\u001b[0m \u001b[0;34m\u001b[0m\u001b[0m\n\u001b[0;32m--> 895\u001b[0;31m         \u001b[0mself\u001b[0m\u001b[0;34m.\u001b[0m\u001b[0m_make_engine\u001b[0m\u001b[0;34m(\u001b[0m\u001b[0mself\u001b[0m\u001b[0;34m.\u001b[0m\u001b[0mengine\u001b[0m\u001b[0;34m)\u001b[0m\u001b[0;34m\u001b[0m\u001b[0;34m\u001b[0m\u001b[0m\n\u001b[0m\u001b[1;32m    896\u001b[0m \u001b[0;34m\u001b[0m\u001b[0m\n\u001b[1;32m    897\u001b[0m     \u001b[0;32mdef\u001b[0m \u001b[0mclose\u001b[0m\u001b[0;34m(\u001b[0m\u001b[0mself\u001b[0m\u001b[0;34m)\u001b[0m\u001b[0;34m:\u001b[0m\u001b[0;34m\u001b[0m\u001b[0;34m\u001b[0m\u001b[0m\n",
            "\u001b[0;32m/usr/local/lib/python3.6/dist-packages/pandas/io/parsers.py\u001b[0m in \u001b[0;36m_make_engine\u001b[0;34m(self, engine)\u001b[0m\n\u001b[1;32m   1133\u001b[0m     \u001b[0;32mdef\u001b[0m \u001b[0m_make_engine\u001b[0m\u001b[0;34m(\u001b[0m\u001b[0mself\u001b[0m\u001b[0;34m,\u001b[0m \u001b[0mengine\u001b[0m\u001b[0;34m=\u001b[0m\u001b[0;34m\"c\"\u001b[0m\u001b[0;34m)\u001b[0m\u001b[0;34m:\u001b[0m\u001b[0;34m\u001b[0m\u001b[0;34m\u001b[0m\u001b[0m\n\u001b[1;32m   1134\u001b[0m         \u001b[0;32mif\u001b[0m \u001b[0mengine\u001b[0m \u001b[0;34m==\u001b[0m \u001b[0;34m\"c\"\u001b[0m\u001b[0;34m:\u001b[0m\u001b[0;34m\u001b[0m\u001b[0;34m\u001b[0m\u001b[0m\n\u001b[0;32m-> 1135\u001b[0;31m             \u001b[0mself\u001b[0m\u001b[0;34m.\u001b[0m\u001b[0m_engine\u001b[0m \u001b[0;34m=\u001b[0m \u001b[0mCParserWrapper\u001b[0m\u001b[0;34m(\u001b[0m\u001b[0mself\u001b[0m\u001b[0;34m.\u001b[0m\u001b[0mf\u001b[0m\u001b[0;34m,\u001b[0m \u001b[0;34m**\u001b[0m\u001b[0mself\u001b[0m\u001b[0;34m.\u001b[0m\u001b[0moptions\u001b[0m\u001b[0;34m)\u001b[0m\u001b[0;34m\u001b[0m\u001b[0;34m\u001b[0m\u001b[0m\n\u001b[0m\u001b[1;32m   1136\u001b[0m         \u001b[0;32melse\u001b[0m\u001b[0;34m:\u001b[0m\u001b[0;34m\u001b[0m\u001b[0;34m\u001b[0m\u001b[0m\n\u001b[1;32m   1137\u001b[0m             \u001b[0;32mif\u001b[0m \u001b[0mengine\u001b[0m \u001b[0;34m==\u001b[0m \u001b[0;34m\"python\"\u001b[0m\u001b[0;34m:\u001b[0m\u001b[0;34m\u001b[0m\u001b[0;34m\u001b[0m\u001b[0m\n",
            "\u001b[0;32m/usr/local/lib/python3.6/dist-packages/pandas/io/parsers.py\u001b[0m in \u001b[0;36m__init__\u001b[0;34m(self, src, **kwds)\u001b[0m\n\u001b[1;32m   1915\u001b[0m         \u001b[0mkwds\u001b[0m\u001b[0;34m[\u001b[0m\u001b[0;34m\"usecols\"\u001b[0m\u001b[0;34m]\u001b[0m \u001b[0;34m=\u001b[0m \u001b[0mself\u001b[0m\u001b[0;34m.\u001b[0m\u001b[0musecols\u001b[0m\u001b[0;34m\u001b[0m\u001b[0;34m\u001b[0m\u001b[0m\n\u001b[1;32m   1916\u001b[0m \u001b[0;34m\u001b[0m\u001b[0m\n\u001b[0;32m-> 1917\u001b[0;31m         \u001b[0mself\u001b[0m\u001b[0;34m.\u001b[0m\u001b[0m_reader\u001b[0m \u001b[0;34m=\u001b[0m \u001b[0mparsers\u001b[0m\u001b[0;34m.\u001b[0m\u001b[0mTextReader\u001b[0m\u001b[0;34m(\u001b[0m\u001b[0msrc\u001b[0m\u001b[0;34m,\u001b[0m \u001b[0;34m**\u001b[0m\u001b[0mkwds\u001b[0m\u001b[0;34m)\u001b[0m\u001b[0;34m\u001b[0m\u001b[0;34m\u001b[0m\u001b[0m\n\u001b[0m\u001b[1;32m   1918\u001b[0m         \u001b[0mself\u001b[0m\u001b[0;34m.\u001b[0m\u001b[0munnamed_cols\u001b[0m \u001b[0;34m=\u001b[0m \u001b[0mself\u001b[0m\u001b[0;34m.\u001b[0m\u001b[0m_reader\u001b[0m\u001b[0;34m.\u001b[0m\u001b[0munnamed_cols\u001b[0m\u001b[0;34m\u001b[0m\u001b[0;34m\u001b[0m\u001b[0m\n\u001b[1;32m   1919\u001b[0m \u001b[0;34m\u001b[0m\u001b[0m\n",
            "\u001b[0;32mpandas/_libs/parsers.pyx\u001b[0m in \u001b[0;36mpandas._libs.parsers.TextReader.__cinit__\u001b[0;34m()\u001b[0m\n",
            "\u001b[0;32mpandas/_libs/parsers.pyx\u001b[0m in \u001b[0;36mpandas._libs.parsers.TextReader._setup_parser_source\u001b[0;34m()\u001b[0m\n",
            "\u001b[0;31mFileNotFoundError\u001b[0m: [Errno 2] File b'./news.csv' does not exist: b'./news.csv'"
          ]
        }
      ]
    },
    {
      "cell_type": "code",
      "metadata": {
        "id": "6w1zuuAO4aWW",
        "colab_type": "code",
        "colab": {
          "base_uri": "https://localhost:8080/",
          "height": 204
        },
        "outputId": "ef31038e-7edf-45fe-d829-341331f84998"
      },
      "source": [
        "df.head()[['publisher', 'title']]"
      ],
      "execution_count": 7,
      "outputs": [
        {
          "output_type": "execute_result",
          "data": {
            "text/html": [
              "<div>\n",
              "<style scoped>\n",
              "    .dataframe tbody tr th:only-of-type {\n",
              "        vertical-align: middle;\n",
              "    }\n",
              "\n",
              "    .dataframe tbody tr th {\n",
              "        vertical-align: top;\n",
              "    }\n",
              "\n",
              "    .dataframe thead th {\n",
              "        text-align: right;\n",
              "    }\n",
              "</style>\n",
              "<table border=\"1\" class=\"dataframe\">\n",
              "  <thead>\n",
              "    <tr style=\"text-align: right;\">\n",
              "      <th></th>\n",
              "      <th>publisher</th>\n",
              "      <th>title</th>\n",
              "    </tr>\n",
              "  </thead>\n",
              "  <tbody>\n",
              "    <tr>\n",
              "      <th>0</th>\n",
              "      <td>Livemint</td>\n",
              "      <td>fed's charles plosser sees high bar for change...</td>\n",
              "    </tr>\n",
              "    <tr>\n",
              "      <th>1</th>\n",
              "      <td>IFA Magazine</td>\n",
              "      <td>us open: stocks fall after fed official hints ...</td>\n",
              "    </tr>\n",
              "    <tr>\n",
              "      <th>2</th>\n",
              "      <td>IFA Magazine</td>\n",
              "      <td>fed risks falling 'behind the curve', charles ...</td>\n",
              "    </tr>\n",
              "    <tr>\n",
              "      <th>3</th>\n",
              "      <td>Moneynews</td>\n",
              "      <td>fed's plosser: nasty weather has curbed job gr...</td>\n",
              "    </tr>\n",
              "    <tr>\n",
              "      <th>4</th>\n",
              "      <td>NASDAQ</td>\n",
              "      <td>plosser: fed may have to accelerate tapering pace</td>\n",
              "    </tr>\n",
              "  </tbody>\n",
              "</table>\n",
              "</div>"
            ],
            "text/plain": [
              "      publisher                                              title\n",
              "0      Livemint  fed's charles plosser sees high bar for change...\n",
              "1  IFA Magazine  us open: stocks fall after fed official hints ...\n",
              "2  IFA Magazine  fed risks falling 'behind the curve', charles ...\n",
              "3     Moneynews  fed's plosser: nasty weather has curbed job gr...\n",
              "4        NASDAQ  plosser: fed may have to accelerate tapering pace"
            ]
          },
          "metadata": {
            "tags": []
          },
          "execution_count": 7
        }
      ]
    },
    {
      "cell_type": "code",
      "metadata": {
        "id": "y7LGVhBT2KUU",
        "colab_type": "code",
        "colab": {
          "base_uri": "https://localhost:8080/",
          "height": 204
        },
        "outputId": "4cfa59ec-f26d-45b3-f0df-afe71db5a105"
      },
      "source": [
        "# Convert text column to lowercase\n",
        "df['title'] = df['title'].str.lower()\n",
        "df.head()[['publisher', 'title']]"
      ],
      "execution_count": 8,
      "outputs": [
        {
          "output_type": "execute_result",
          "data": {
            "text/html": [
              "<div>\n",
              "<style scoped>\n",
              "    .dataframe tbody tr th:only-of-type {\n",
              "        vertical-align: middle;\n",
              "    }\n",
              "\n",
              "    .dataframe tbody tr th {\n",
              "        vertical-align: top;\n",
              "    }\n",
              "\n",
              "    .dataframe thead th {\n",
              "        text-align: right;\n",
              "    }\n",
              "</style>\n",
              "<table border=\"1\" class=\"dataframe\">\n",
              "  <thead>\n",
              "    <tr style=\"text-align: right;\">\n",
              "      <th></th>\n",
              "      <th>publisher</th>\n",
              "      <th>title</th>\n",
              "    </tr>\n",
              "  </thead>\n",
              "  <tbody>\n",
              "    <tr>\n",
              "      <th>0</th>\n",
              "      <td>Livemint</td>\n",
              "      <td>fed's charles plosser sees high bar for change...</td>\n",
              "    </tr>\n",
              "    <tr>\n",
              "      <th>1</th>\n",
              "      <td>IFA Magazine</td>\n",
              "      <td>us open: stocks fall after fed official hints ...</td>\n",
              "    </tr>\n",
              "    <tr>\n",
              "      <th>2</th>\n",
              "      <td>IFA Magazine</td>\n",
              "      <td>fed risks falling 'behind the curve', charles ...</td>\n",
              "    </tr>\n",
              "    <tr>\n",
              "      <th>3</th>\n",
              "      <td>Moneynews</td>\n",
              "      <td>fed's plosser: nasty weather has curbed job gr...</td>\n",
              "    </tr>\n",
              "    <tr>\n",
              "      <th>4</th>\n",
              "      <td>NASDAQ</td>\n",
              "      <td>plosser: fed may have to accelerate tapering pace</td>\n",
              "    </tr>\n",
              "  </tbody>\n",
              "</table>\n",
              "</div>"
            ],
            "text/plain": [
              "      publisher                                              title\n",
              "0      Livemint  fed's charles plosser sees high bar for change...\n",
              "1  IFA Magazine  us open: stocks fall after fed official hints ...\n",
              "2  IFA Magazine  fed risks falling 'behind the curve', charles ...\n",
              "3     Moneynews  fed's plosser: nasty weather has curbed job gr...\n",
              "4        NASDAQ  plosser: fed may have to accelerate tapering pace"
            ]
          },
          "metadata": {
            "tags": []
          },
          "execution_count": 8
        }
      ]
    },
    {
      "cell_type": "markdown",
      "metadata": {
        "id": "83-91SQr1zzu",
        "colab_type": "text"
      },
      "source": [
        "### Online Resource"
      ]
    },
    {
      "cell_type": "code",
      "metadata": {
        "scrolled": true,
        "id": "uSOuHx0K1zzv",
        "colab_type": "code",
        "colab": {}
      },
      "source": [
        "import requests\n",
        "import json\n",
        "\n",
        "# Fetch data from a REST API\n",
        "r = requests.get(\"https://quotes.rest/qod.json\")\n"
      ],
      "execution_count": 0,
      "outputs": []
    },
    {
      "cell_type": "code",
      "metadata": {
        "id": "yFZ826044q1j",
        "colab_type": "code",
        "colab": {
          "base_uri": "https://localhost:8080/",
          "height": 54
        },
        "outputId": "a97c1274-3a0f-41e6-ecd1-bc753c5b1275"
      },
      "source": [
        "res = r.json()\n",
        "print(res)"
      ],
      "execution_count": 4,
      "outputs": [
        {
          "output_type": "stream",
          "text": [
            "{'success': {'total': 1}, 'contents': {'quotes': [{'quote': 'Do the best you can until you know better. Then when you know better, do better.', 'length': '80', 'author': 'Maya Angelou', 'tags': {'0': 'inspire', '2': 'wisdom'}, 'category': 'inspire', 'language': 'en', 'date': '2020-03-24', 'permalink': 'https://theysaidso.com/quote/maya-angelou-do-the-best-you-can-until-you-know-better-then-when-you-know-better', 'id': 'B27anrMZFJFeMsJyTvRkrweF', 'background': 'https://theysaidso.com/img/qod/qod-inspire.jpg', 'title': 'Inspiring Quote of the day'}]}, 'baseurl': 'https://theysaidso.com', 'copyright': {'year': 2022, 'url': 'https://theysaidso.com'}}\n"
          ],
          "name": "stdout"
        }
      ]
    },
    {
      "cell_type": "code",
      "metadata": {
        "id": "YAlXpDr34v4q",
        "colab_type": "code",
        "colab": {
          "base_uri": "https://localhost:8080/",
          "height": 527
        },
        "outputId": "251d546f-58da-4cdc-a670-cd59a7236aa0"
      },
      "source": [
        "print(json.dumps(res, indent=4)) ## to print identited version of json file"
      ],
      "execution_count": 5,
      "outputs": [
        {
          "output_type": "stream",
          "text": [
            "{\n",
            "    \"success\": {\n",
            "        \"total\": 1\n",
            "    },\n",
            "    \"contents\": {\n",
            "        \"quotes\": [\n",
            "            {\n",
            "                \"quote\": \"Do the best you can until you know better. Then when you know better, do better.\",\n",
            "                \"length\": \"80\",\n",
            "                \"author\": \"Maya Angelou\",\n",
            "                \"tags\": {\n",
            "                    \"0\": \"inspire\",\n",
            "                    \"2\": \"wisdom\"\n",
            "                },\n",
            "                \"category\": \"inspire\",\n",
            "                \"language\": \"en\",\n",
            "                \"date\": \"2020-03-24\",\n",
            "                \"permalink\": \"https://theysaidso.com/quote/maya-angelou-do-the-best-you-can-until-you-know-better-then-when-you-know-better\",\n",
            "                \"id\": \"B27anrMZFJFeMsJyTvRkrweF\",\n",
            "                \"background\": \"https://theysaidso.com/img/qod/qod-inspire.jpg\",\n",
            "                \"title\": \"Inspiring Quote of the day\"\n",
            "            }\n",
            "        ]\n",
            "    },\n",
            "    \"baseurl\": \"https://theysaidso.com\",\n",
            "    \"copyright\": {\n",
            "        \"year\": 2022,\n",
            "        \"url\": \"https://theysaidso.com\"\n",
            "    }\n",
            "}\n"
          ],
          "name": "stdout"
        }
      ]
    },
    {
      "cell_type": "code",
      "metadata": {
        "id": "9tCP-1b_40zx",
        "colab_type": "code",
        "colab": {
          "base_uri": "https://localhost:8080/",
          "height": 51
        },
        "outputId": "ef30a00d-cd32-4f39-c299-8d829dd2107a"
      },
      "source": [
        "# Extract relevant object and field\n",
        "q = res[\"contents\"][\"quotes\"][0]\n",
        "print(q[\"quote\"], \"\\n--\", q[\"author\"])"
      ],
      "execution_count": 6,
      "outputs": [
        {
          "output_type": "stream",
          "text": [
            "Do the best you can until you know better. Then when you know better, do better. \n",
            "-- Maya Angelou\n"
          ],
          "name": "stdout"
        }
      ]
    },
    {
      "cell_type": "markdown",
      "metadata": {
        "id": "axTzqEbv1zzy",
        "colab_type": "text"
      },
      "source": [
        "## Cleaning"
      ]
    },
    {
      "cell_type": "code",
      "metadata": {
        "scrolled": true,
        "id": "cisDYvr31zzz",
        "colab_type": "code",
        "colab": {
          "base_uri": "https://localhost:8080/",
          "height": 1000
        },
        "outputId": "78adf526-7976-4bfd-a1ff-d2a444ee23c5"
      },
      "source": [
        "import requests\n",
        "\n",
        "# Fetch a web page\n",
        "r = requests.get(\"https://news.ycombinator.com\")\n",
        "print(r.text)"
      ],
      "execution_count": 12,
      "outputs": [
        {
          "output_type": "stream",
          "text": [
            "<html op=\"news\"><head><meta name=\"referrer\" content=\"origin\"><meta name=\"viewport\" content=\"width=device-width, initial-scale=1.0\"><link rel=\"stylesheet\" type=\"text/css\" href=\"news.css?aFHNeAZxwR2iyTLJ4yw2\">\n",
            "        <link rel=\"shortcut icon\" href=\"favicon.ico\">\n",
            "          <link rel=\"alternate\" type=\"application/rss+xml\" title=\"RSS\" href=\"rss\">\n",
            "        <title>Hacker News</title></head><body><center><table id=\"hnmain\" border=\"0\" cellpadding=\"0\" cellspacing=\"0\" width=\"85%\" bgcolor=\"#f6f6ef\">\n",
            "        <tr><td bgcolor=\"#ff6600\"><table border=\"0\" cellpadding=\"0\" cellspacing=\"0\" width=\"100%\" style=\"padding:2px\"><tr><td style=\"width:18px;padding-right:4px\"><a href=\"https://news.ycombinator.com\"><img src=\"y18.gif\" width=\"18\" height=\"18\" style=\"border:1px white solid;\"></a></td>\n",
            "                  <td style=\"line-height:12pt; height:10px;\"><span class=\"pagetop\"><b class=\"hnname\"><a href=\"news\">Hacker News</a></b>\n",
            "              <a href=\"newest\">new</a> | <a href=\"front\">past</a> | <a href=\"newcomments\">comments</a> | <a href=\"ask\">ask</a> | <a href=\"show\">show</a> | <a href=\"jobs\">jobs</a> | <a href=\"submit\">submit</a>            </span></td><td style=\"text-align:right;padding-right:4px;\"><span class=\"pagetop\">\n",
            "                              <a href=\"login?goto=news\">login</a>\n",
            "                          </span></td>\n",
            "              </tr></table></td></tr>\n",
            "<tr id=\"pagespace\" title=\"\" style=\"height:10px\"></tr><tr><td><table border=\"0\" cellpadding=\"0\" cellspacing=\"0\" class=\"itemlist\">\n",
            "              <tr class='athing' id='22672491'>\n",
            "      <td align=\"right\" valign=\"top\" class=\"title\"><span class=\"rank\">1.</span></td>      <td valign=\"top\" class=\"votelinks\"><center><a id='up_22672491' href='vote?id=22672491&amp;how=up&amp;goto=news'><div class='votearrow' title='upvote'></div></a></center></td><td class=\"title\"><a href=\"https://www.micah.soy/posts/setting-up-git-identities/\" class=\"storylink\">Setting up Git identities</a><span class=\"sitebit comhead\"> (<a href=\"from?site=micah.soy\"><span class=\"sitestr\">micah.soy</span></a>)</span></td></tr><tr><td colspan=\"2\"></td><td class=\"subtext\">\n",
            "        <span class=\"score\" id=\"score_22672491\">103 points</span> by <a href=\"user?id=micahhenning\" class=\"hnuser\">micahhenning</a> <span class=\"age\"><a href=\"item?id=22672491\">4 hours ago</a></span> <span id=\"unv_22672491\"></span> | <a href=\"hide?id=22672491&amp;goto=news\">hide</a> | <a href=\"item?id=22672491\">28&nbsp;comments</a>              </td></tr>\n",
            "      <tr class=\"spacer\" style=\"height:5px\"></tr>\n",
            "                <tr class='athing' id='22672242'>\n",
            "      <td align=\"right\" valign=\"top\" class=\"title\"><span class=\"rank\">2.</span></td>      <td valign=\"top\" class=\"votelinks\"><center><a id='up_22672242' href='vote?id=22672242&amp;how=up&amp;goto=news'><div class='votearrow' title='upvote'></div></a></center></td><td class=\"title\"><a href=\"https://blog.documentnode.io/when-markdown-meets-tables\" class=\"storylink\">Show HN: Excel-like table editing for Markdown</a><span class=\"sitebit comhead\"> (<a href=\"from?site=documentnode.io\"><span class=\"sitestr\">documentnode.io</span></a>)</span></td></tr><tr><td colspan=\"2\"></td><td class=\"subtext\">\n",
            "        <span class=\"score\" id=\"score_22672242\">135 points</span> by <a href=\"user?id=jakew\" class=\"hnuser\">jakew</a> <span class=\"age\"><a href=\"item?id=22672242\">5 hours ago</a></span> <span id=\"unv_22672242\"></span> | <a href=\"hide?id=22672242&amp;goto=news\">hide</a> | <a href=\"item?id=22672242\">43&nbsp;comments</a>              </td></tr>\n",
            "      <tr class=\"spacer\" style=\"height:5px\"></tr>\n",
            "                <tr class='athing' id='22672128'>\n",
            "      <td align=\"right\" valign=\"top\" class=\"title\"><span class=\"rank\">3.</span></td>      <td valign=\"top\" class=\"votelinks\"><center><a id='up_22672128' href='vote?id=22672128&amp;how=up&amp;goto=news'><div class='votearrow' title='upvote'></div></a></center></td><td class=\"title\"><a href=\"https://begriffs.com/posts/2020-03-23-concurrent-programming.html?hn=1\" class=\"storylink\">Concurrent Programming, with Examples</a><span class=\"sitebit comhead\"> (<a href=\"from?site=begriffs.com\"><span class=\"sitestr\">begriffs.com</span></a>)</span></td></tr><tr><td colspan=\"2\"></td><td class=\"subtext\">\n",
            "        <span class=\"score\" id=\"score_22672128\">129 points</span> by <a href=\"user?id=begriffs\" class=\"hnuser\">begriffs</a> <span class=\"age\"><a href=\"item?id=22672128\">6 hours ago</a></span> <span id=\"unv_22672128\"></span> | <a href=\"hide?id=22672128&amp;goto=news\">hide</a> | <a href=\"item?id=22672128\">18&nbsp;comments</a>              </td></tr>\n",
            "      <tr class=\"spacer\" style=\"height:5px\"></tr>\n",
            "                <tr class='athing' id='22668614'>\n",
            "      <td align=\"right\" valign=\"top\" class=\"title\"><span class=\"rank\">4.</span></td>      <td valign=\"top\" class=\"votelinks\"><center><a id='up_22668614' href='vote?id=22668614&amp;how=up&amp;goto=news'><div class='votearrow' title='upvote'></div></a></center></td><td class=\"title\"><a href=\"https://arstechnica.com/information-technology/2020/03/attackers-exploit-windows-zeroday-that-can-execute-malicious-code/\" class=\"storylink\">Windows code-execution zeroday is under active exploit, Microsoft warns</a><span class=\"sitebit comhead\"> (<a href=\"from?site=arstechnica.com\"><span class=\"sitestr\">arstechnica.com</span></a>)</span></td></tr><tr><td colspan=\"2\"></td><td class=\"subtext\">\n",
            "        <span class=\"score\" id=\"score_22668614\">397 points</span> by <a href=\"user?id=vo2maxer\" class=\"hnuser\">vo2maxer</a> <span class=\"age\"><a href=\"item?id=22668614\">14 hours ago</a></span> <span id=\"unv_22668614\"></span> | <a href=\"hide?id=22668614&amp;goto=news\">hide</a> | <a href=\"item?id=22668614\">136&nbsp;comments</a>              </td></tr>\n",
            "      <tr class=\"spacer\" style=\"height:5px\"></tr>\n",
            "                <tr class='athing' id='22665398'>\n",
            "      <td align=\"right\" valign=\"top\" class=\"title\"><span class=\"rank\">5.</span></td>      <td valign=\"top\" class=\"votelinks\"><center><a id='up_22665398' href='vote?id=22665398&amp;how=up&amp;goto=news'><div class='votearrow' title='upvote'></div></a></center></td><td class=\"title\"><a href=\"item?id=22665398\" class=\"storylink\">Ask HN: Who is hiring right now?</a></td></tr><tr><td colspan=\"2\"></td><td class=\"subtext\">\n",
            "        <span class=\"score\" id=\"score_22665398\">810 points</span> by <a href=\"user?id=whoishiring\" class=\"hnuser\">whoishiring</a> <span class=\"age\"><a href=\"item?id=22665398\">18 hours ago</a></span> <span id=\"unv_22665398\"></span> | <a href=\"hide?id=22665398&amp;goto=news\">hide</a> | <a href=\"item?id=22665398\">541&nbsp;comments</a>              </td></tr>\n",
            "      <tr class=\"spacer\" style=\"height:5px\"></tr>\n",
            "                <tr class='athing' id='22672392'>\n",
            "      <td align=\"right\" valign=\"top\" class=\"title\"><span class=\"rank\">6.</span></td>      <td valign=\"top\" class=\"votelinks\"><center><a id='up_22672392' href='vote?id=22672392&amp;how=up&amp;goto=news'><div class='votearrow' title='upvote'></div></a></center></td><td class=\"title\"><a href=\"https://www.theverge.com/2020/3/23/21187076/cruise-line-industry-bailout-trump-coronavirus-us-companies-tax\" class=\"storylink\">Don’t bail out the cruise industry</a><span class=\"sitebit comhead\"> (<a href=\"from?site=theverge.com\"><span class=\"sitestr\">theverge.com</span></a>)</span></td></tr><tr><td colspan=\"2\"></td><td class=\"subtext\">\n",
            "        <span class=\"score\" id=\"score_22672392\">209 points</span> by <a href=\"user?id=nobita\" class=\"hnuser\">nobita</a> <span class=\"age\"><a href=\"item?id=22672392\">5 hours ago</a></span> <span id=\"unv_22672392\"></span> | <a href=\"hide?id=22672392&amp;goto=news\">hide</a> | <a href=\"item?id=22672392\">94&nbsp;comments</a>              </td></tr>\n",
            "      <tr class=\"spacer\" style=\"height:5px\"></tr>\n",
            "                <tr class='athing' id='22672176'>\n",
            "      <td align=\"right\" valign=\"top\" class=\"title\"><span class=\"rank\">7.</span></td>      <td valign=\"top\" class=\"votelinks\"><center><a id='up_22672176' href='vote?id=22672176&amp;how=up&amp;goto=news'><div class='votearrow' title='upvote'></div></a></center></td><td class=\"title\"><a href=\"https://www.youtube.com/watch?v=Z74OfpUbeac\" class=\"storylink\">How toilet paper is made (2014) [video]</a><span class=\"sitebit comhead\"> (<a href=\"from?site=youtube.com\"><span class=\"sitestr\">youtube.com</span></a>)</span></td></tr><tr><td colspan=\"2\"></td><td class=\"subtext\">\n",
            "        <span class=\"score\" id=\"score_22672176\">56 points</span> by <a href=\"user?id=jonbaer\" class=\"hnuser\">jonbaer</a> <span class=\"age\"><a href=\"item?id=22672176\">5 hours ago</a></span> <span id=\"unv_22672176\"></span> | <a href=\"hide?id=22672176&amp;goto=news\">hide</a> | <a href=\"item?id=22672176\">36&nbsp;comments</a>              </td></tr>\n",
            "      <tr class=\"spacer\" style=\"height:5px\"></tr>\n",
            "                <tr class='athing' id='22661469'>\n",
            "      <td align=\"right\" valign=\"top\" class=\"title\"><span class=\"rank\">8.</span></td>      <td valign=\"top\" class=\"votelinks\"><center><a id='up_22661469' href='vote?id=22661469&amp;how=up&amp;goto=news'><div class='votearrow' title='upvote'></div></a></center></td><td class=\"title\"><a href=\"https://priceonomics.com/the-great-toilet-paper-scare-of-1973/\" class=\"storylink\">The Great Toilet Paper Scare of 1973 (2014)</a><span class=\"sitebit comhead\"> (<a href=\"from?site=priceonomics.com\"><span class=\"sitestr\">priceonomics.com</span></a>)</span></td></tr><tr><td colspan=\"2\"></td><td class=\"subtext\">\n",
            "        <span class=\"score\" id=\"score_22661469\">126 points</span> by <a href=\"user?id=luu\" class=\"hnuser\">luu</a> <span class=\"age\"><a href=\"item?id=22661469\">11 hours ago</a></span> <span id=\"unv_22661469\"></span> | <a href=\"hide?id=22661469&amp;goto=news\">hide</a> | <a href=\"item?id=22661469\">128&nbsp;comments</a>              </td></tr>\n",
            "      <tr class=\"spacer\" style=\"height:5px\"></tr>\n",
            "                <tr class='athing' id='22671721'>\n",
            "      <td align=\"right\" valign=\"top\" class=\"title\"><span class=\"rank\">9.</span></td>      <td valign=\"top\" class=\"votelinks\"><center><a id='up_22671721' href='vote?id=22671721&amp;how=up&amp;goto=news'><div class='votearrow' title='upvote'></div></a></center></td><td class=\"title\"><a href=\"https://www.ryanprior.com/posts/svelte-is-unappealing/\" class=\"storylink\">Svelte Is Unappealing</a><span class=\"sitebit comhead\"> (<a href=\"from?site=ryanprior.com\"><span class=\"sitestr\">ryanprior.com</span></a>)</span></td></tr><tr><td colspan=\"2\"></td><td class=\"subtext\">\n",
            "        <span class=\"score\" id=\"score_22671721\">47 points</span> by <a href=\"user?id=pcr910303\" class=\"hnuser\">pcr910303</a> <span class=\"age\"><a href=\"item?id=22671721\">7 hours ago</a></span> <span id=\"unv_22671721\"></span> | <a href=\"hide?id=22671721&amp;goto=news\">hide</a> | <a href=\"item?id=22671721\">37&nbsp;comments</a>              </td></tr>\n",
            "      <tr class=\"spacer\" style=\"height:5px\"></tr>\n",
            "                <tr class='athing' id='22661465'>\n",
            "      <td align=\"right\" valign=\"top\" class=\"title\"><span class=\"rank\">10.</span></td>      <td valign=\"top\" class=\"votelinks\"><center><a id='up_22661465' href='vote?id=22661465&amp;how=up&amp;goto=news'><div class='votearrow' title='upvote'></div></a></center></td><td class=\"title\"><a href=\"https://acoup.blog/2020/03/20/collections-why-dont-we-use-chemical-weapons-anymore/\" class=\"storylink\">Why Don’t We Use Chemical Weapons Anymore?</a><span class=\"sitebit comhead\"> (<a href=\"from?site=acoup.blog\"><span class=\"sitestr\">acoup.blog</span></a>)</span></td></tr><tr><td colspan=\"2\"></td><td class=\"subtext\">\n",
            "        <span class=\"score\" id=\"score_22661465\">134 points</span> by <a href=\"user?id=nkurz\" class=\"hnuser\">nkurz</a> <span class=\"age\"><a href=\"item?id=22661465\">12 hours ago</a></span> <span id=\"unv_22661465\"></span> | <a href=\"hide?id=22661465&amp;goto=news\">hide</a> | <a href=\"item?id=22661465\">107&nbsp;comments</a>              </td></tr>\n",
            "      <tr class=\"spacer\" style=\"height:5px\"></tr>\n",
            "                <tr class='athing' id='22668208'>\n",
            "      <td align=\"right\" valign=\"top\" class=\"title\"><span class=\"rank\">11.</span></td>      <td valign=\"top\" class=\"votelinks\"><center><a id='up_22668208' href='vote?id=22668208&amp;how=up&amp;goto=news'><div class='votearrow' title='upvote'></div></a></center></td><td class=\"title\"><a href=\"https://www.reuters.com/article/us-health-coronavirus-taiwan-surveillanc-idUSKBN2170SK\" class=\"storylink\">Taiwan's new 'electronic fence' for quarantines leads wave of virus monitoring</a><span class=\"sitebit comhead\"> (<a href=\"from?site=reuters.com\"><span class=\"sitestr\">reuters.com</span></a>)</span></td></tr><tr><td colspan=\"2\"></td><td class=\"subtext\">\n",
            "        <span class=\"score\" id=\"score_22668208\">208 points</span> by <a href=\"user?id=imartin2k\" class=\"hnuser\">imartin2k</a> <span class=\"age\"><a href=\"item?id=22668208\">15 hours ago</a></span> <span id=\"unv_22668208\"></span> | <a href=\"hide?id=22668208&amp;goto=news\">hide</a> | <a href=\"item?id=22668208\">166&nbsp;comments</a>              </td></tr>\n",
            "      <tr class=\"spacer\" style=\"height:5px\"></tr>\n",
            "                <tr class='athing' id='22671855'>\n",
            "      <td align=\"right\" valign=\"top\" class=\"title\"><span class=\"rank\">12.</span></td>      <td valign=\"top\" class=\"votelinks\"><center><a id='up_22671855' href='vote?id=22671855&amp;how=up&amp;goto=news'><div class='votearrow' title='upvote'></div></a></center></td><td class=\"title\"><a href=\"https://productizedstartups.com/how-i-was-inspired-to-build-a-50k-month-online-coaching-agency-for-ielts-test-prep/\" class=\"storylink\">Building an online coaching agency for IELTS test prep</a><span class=\"sitebit comhead\"> (<a href=\"from?site=productizedstartups.com\"><span class=\"sitestr\">productizedstartups.com</span></a>)</span></td></tr><tr><td colspan=\"2\"></td><td class=\"subtext\">\n",
            "        <span class=\"score\" id=\"score_22671855\">33 points</span> by <a href=\"user?id=vinrob92\" class=\"hnuser\">vinrob92</a> <span class=\"age\"><a href=\"item?id=22671855\">6 hours ago</a></span> <span id=\"unv_22671855\"></span> | <a href=\"hide?id=22671855&amp;goto=news\">hide</a> | <a href=\"item?id=22671855\">8&nbsp;comments</a>              </td></tr>\n",
            "      <tr class=\"spacer\" style=\"height:5px\"></tr>\n",
            "                <tr class='athing' id='22669565'>\n",
            "      <td align=\"right\" valign=\"top\" class=\"title\"><span class=\"rank\">13.</span></td>      <td valign=\"top\" class=\"votelinks\"><center><a id='up_22669565' href='vote?id=22669565&amp;how=up&amp;goto=news'><div class='votearrow' title='upvote'></div></a></center></td><td class=\"title\"><a href=\"https://github.com/mig1984/bashible\" class=\"storylink\">Bashible: An Ansible-inspired deployment/automation tool written in Bash DSL</a><span class=\"sitebit comhead\"> (<a href=\"from?site=github.com\"><span class=\"sitestr\">github.com</span></a>)</span></td></tr><tr><td colspan=\"2\"></td><td class=\"subtext\">\n",
            "        <span class=\"score\" id=\"score_22669565\">105 points</span> by <a href=\"user?id=vitro\" class=\"hnuser\">vitro</a> <span class=\"age\"><a href=\"item?id=22669565\">12 hours ago</a></span> <span id=\"unv_22669565\"></span> | <a href=\"hide?id=22669565&amp;goto=news\">hide</a> | <a href=\"item?id=22669565\">64&nbsp;comments</a>              </td></tr>\n",
            "      <tr class=\"spacer\" style=\"height:5px\"></tr>\n",
            "                <tr class='athing' id='22669640'>\n",
            "      <td align=\"right\" valign=\"top\" class=\"title\"><span class=\"rank\">14.</span></td>      <td valign=\"top\" class=\"votelinks\"><center><a id='up_22669640' href='vote?id=22669640&amp;how=up&amp;goto=news'><div class='votearrow' title='upvote'></div></a></center></td><td class=\"title\"><a href=\"https://en.wikipedia.org/wiki/God_helmet\" class=\"storylink\">God Helmet</a><span class=\"sitebit comhead\"> (<a href=\"from?site=wikipedia.org\"><span class=\"sitestr\">wikipedia.org</span></a>)</span></td></tr><tr><td colspan=\"2\"></td><td class=\"subtext\">\n",
            "        <span class=\"score\" id=\"score_22669640\">41 points</span> by <a href=\"user?id=elierotenberg\" class=\"hnuser\">elierotenberg</a> <span class=\"age\"><a href=\"item?id=22669640\">7 hours ago</a></span> <span id=\"unv_22669640\"></span> | <a href=\"hide?id=22669640&amp;goto=news\">hide</a> | <a href=\"item?id=22669640\">14&nbsp;comments</a>              </td></tr>\n",
            "      <tr class=\"spacer\" style=\"height:5px\"></tr>\n",
            "                <tr class='athing' id='22644893'>\n",
            "      <td align=\"right\" valign=\"top\" class=\"title\"><span class=\"rank\">15.</span></td>      <td valign=\"top\" class=\"votelinks\"><center><a id='up_22644893' href='vote?id=22644893&amp;how=up&amp;goto=news'><div class='votearrow' title='upvote'></div></a></center></td><td class=\"title\"><a href=\"http://ballingt.com/error-detection/\" class=\"storylink\">Reading \"Error Detecting and Error Correcting Codes\" (2014)</a><span class=\"sitebit comhead\"> (<a href=\"from?site=ballingt.com\"><span class=\"sitestr\">ballingt.com</span></a>)</span></td></tr><tr><td colspan=\"2\"></td><td class=\"subtext\">\n",
            "        <span class=\"score\" id=\"score_22644893\">22 points</span> by <a href=\"user?id=luu\" class=\"hnuser\">luu</a> <span class=\"age\"><a href=\"item?id=22644893\">6 hours ago</a></span> <span id=\"unv_22644893\"></span> | <a href=\"hide?id=22644893&amp;goto=news\">hide</a> | <a href=\"item?id=22644893\">discuss</a>              </td></tr>\n",
            "      <tr class=\"spacer\" style=\"height:5px\"></tr>\n",
            "                <tr class='athing' id='22666658'>\n",
            "      <td align=\"right\" valign=\"top\" class=\"title\"><span class=\"rank\">16.</span></td>      <td valign=\"top\" class=\"votelinks\"><center><a id='up_22666658' href='vote?id=22666658&amp;how=up&amp;goto=news'><div class='votearrow' title='upvote'></div></a></center></td><td class=\"title\"><a href=\"item?id=22666658\" class=\"storylink\">Launch HN: Taiv (YC W20) – Replace TV commercials with content people care about</a></td></tr><tr><td colspan=\"2\"></td><td class=\"subtext\">\n",
            "        <span class=\"score\" id=\"score_22666658\">145 points</span> by <a href=\"user?id=npalansky\" class=\"hnuser\">npalansky</a> <span class=\"age\"><a href=\"item?id=22666658\">17 hours ago</a></span> <span id=\"unv_22666658\"></span> | <a href=\"hide?id=22666658&amp;goto=news\">hide</a> | <a href=\"item?id=22666658\">104&nbsp;comments</a>              </td></tr>\n",
            "      <tr class=\"spacer\" style=\"height:5px\"></tr>\n",
            "                <tr class='athing' id='22647694'>\n",
            "      <td align=\"right\" valign=\"top\" class=\"title\"><span class=\"rank\">17.</span></td>      <td valign=\"top\" class=\"votelinks\"><center><a id='up_22647694' href='vote?id=22647694&amp;how=up&amp;goto=news'><div class='votearrow' title='upvote'></div></a></center></td><td class=\"title\"><a href=\"https://www.shaderoo.org/?shader=zh8I1X\" class=\"storylink\">Tetrahedral Tessellation Experiments</a><span class=\"sitebit comhead\"> (<a href=\"from?site=shaderoo.org\"><span class=\"sitestr\">shaderoo.org</span></a>)</span></td></tr><tr><td colspan=\"2\"></td><td class=\"subtext\">\n",
            "        <span class=\"score\" id=\"score_22647694\">27 points</span> by <a href=\"user?id=flockaroo\" class=\"hnuser\">flockaroo</a> <span class=\"age\"><a href=\"item?id=22647694\">9 hours ago</a></span> <span id=\"unv_22647694\"></span> | <a href=\"hide?id=22647694&amp;goto=news\">hide</a> | <a href=\"item?id=22647694\">8&nbsp;comments</a>              </td></tr>\n",
            "      <tr class=\"spacer\" style=\"height:5px\"></tr>\n",
            "                <tr class='athing' id='22673511'>\n",
            "      <td align=\"right\" valign=\"top\" class=\"title\"><span class=\"rank\">18.</span></td>      <td valign=\"top\" class=\"votelinks\"><center><a id='up_22673511' href='vote?id=22673511&amp;how=up&amp;goto=news'><div class='votearrow' title='upvote'></div></a></center></td><td class=\"title\"><a href=\"item?id=22673511\" class=\"storylink\">Ask HN: Smallest laptop that is decent for coding?</a></td></tr><tr><td colspan=\"2\"></td><td class=\"subtext\">\n",
            "        <span class=\"score\" id=\"score_22673511\">13 points</span> by <a href=\"user?id=krm01\" class=\"hnuser\">krm01</a> <span class=\"age\"><a href=\"item?id=22673511\">50 minutes ago</a></span> <span id=\"unv_22673511\"></span> | <a href=\"hide?id=22673511&amp;goto=news\">hide</a> | <a href=\"item?id=22673511\">53&nbsp;comments</a>              </td></tr>\n",
            "      <tr class=\"spacer\" style=\"height:5px\"></tr>\n",
            "                <tr class='athing' id='22669968'>\n",
            "      <td align=\"right\" valign=\"top\" class=\"title\"><span class=\"rank\">19.</span></td>      <td valign=\"top\" class=\"votelinks\"><center><a id='up_22669968' href='vote?id=22669968&amp;how=up&amp;goto=news'><div class='votearrow' title='upvote'></div></a></center></td><td class=\"title\"><a href=\"https://meet.jit.si\" class=\"storylink\">Jitsi Meet: An open source alternative to Zoom</a><span class=\"sitebit comhead\"> (<a href=\"from?site=jit.si\"><span class=\"sitestr\">jit.si</span></a>)</span></td></tr><tr><td colspan=\"2\"></td><td class=\"subtext\">\n",
            "        <span class=\"score\" id=\"score_22669968\">724 points</span> by <a href=\"user?id=LockAndLol\" class=\"hnuser\">LockAndLol</a> <span class=\"age\"><a href=\"item?id=22669968\">11 hours ago</a></span> <span id=\"unv_22669968\"></span> | <a href=\"hide?id=22669968&amp;goto=news\">hide</a> | <a href=\"item?id=22669968\">227&nbsp;comments</a>              </td></tr>\n",
            "      <tr class=\"spacer\" style=\"height:5px\"></tr>\n",
            "                <tr class='athing' id='22671404'>\n",
            "      <td align=\"right\" valign=\"top\" class=\"title\"><span class=\"rank\">20.</span></td>      <td valign=\"top\" class=\"votelinks\"><center><a id='up_22671404' href='vote?id=22671404&amp;how=up&amp;goto=news'><div class='votearrow' title='upvote'></div></a></center></td><td class=\"title\"><a href=\"https://twitter.com/gcbioinv/status/1242268829906018304\" class=\"storylink\">First hydroxychloroquine randomized controlled trial: results disappointing</a><span class=\"sitebit comhead\"> (<a href=\"from?site=twitter.com\"><span class=\"sitestr\">twitter.com</span></a>)</span></td></tr><tr><td colspan=\"2\"></td><td class=\"subtext\">\n",
            "        <span class=\"score\" id=\"score_22671404\">124 points</span> by <a href=\"user?id=aaavl2821\" class=\"hnuser\">aaavl2821</a> <span class=\"age\"><a href=\"item?id=22671404\">8 hours ago</a></span> <span id=\"unv_22671404\"></span> | <a href=\"hide?id=22671404&amp;goto=news\">hide</a> | <a href=\"item?id=22671404\">45&nbsp;comments</a>              </td></tr>\n",
            "      <tr class=\"spacer\" style=\"height:5px\"></tr>\n",
            "                <tr class='athing' id='22665087'>\n",
            "      <td align=\"right\" valign=\"top\" class=\"title\"><span class=\"rank\">21.</span></td>      <td valign=\"top\" class=\"votelinks\"><center><a id='up_22665087' href='vote?id=22665087&amp;how=up&amp;goto=news'><div class='votearrow' title='upvote'></div></a></center></td><td class=\"title\"><a href=\"https://www.youtube.com/watch?v=1bN8OmCBxcY\" class=\"storylink\" rel=\"nofollow\">How to Make a Thaumatrope [video]</a><span class=\"sitebit comhead\"> (<a href=\"from?site=youtube.com\"><span class=\"sitestr\">youtube.com</span></a>)</span></td></tr><tr><td colspan=\"2\"></td><td class=\"subtext\">\n",
            "        <span class=\"score\" id=\"score_22665087\">3 points</span> by <a href=\"user?id=brudgers\" class=\"hnuser\">brudgers</a> <span class=\"age\"><a href=\"item?id=22665087\">2 hours ago</a></span> <span id=\"unv_22665087\"></span> | <a href=\"hide?id=22665087&amp;goto=news\">hide</a> | <a href=\"item?id=22665087\">discuss</a>              </td></tr>\n",
            "      <tr class=\"spacer\" style=\"height:5px\"></tr>\n",
            "                <tr class='athing' id='22656671'>\n",
            "      <td align=\"right\" valign=\"top\" class=\"title\"><span class=\"rank\">22.</span></td>      <td valign=\"top\" class=\"votelinks\"><center><a id='up_22656671' href='vote?id=22656671&amp;how=up&amp;goto=news'><div class='votearrow' title='upvote'></div></a></center></td><td class=\"title\"><a href=\"https://atreus.technomancy.us/firmware\" class=\"storylink\">Menelaus: A firmware for the Atreus keyboard, written in Microscheme</a><span class=\"sitebit comhead\"> (<a href=\"from?site=technomancy.us\"><span class=\"sitestr\">technomancy.us</span></a>)</span></td></tr><tr><td colspan=\"2\"></td><td class=\"subtext\">\n",
            "        <span class=\"score\" id=\"score_22656671\">39 points</span> by <a href=\"user?id=lelf\" class=\"hnuser\">lelf</a> <span class=\"age\"><a href=\"item?id=22656671\">10 hours ago</a></span> <span id=\"unv_22656671\"></span> | <a href=\"hide?id=22656671&amp;goto=news\">hide</a> | <a href=\"item?id=22656671\">8&nbsp;comments</a>              </td></tr>\n",
            "      <tr class=\"spacer\" style=\"height:5px\"></tr>\n",
            "                <tr class='athing' id='22667296'>\n",
            "      <td align=\"right\" valign=\"top\" class=\"title\"><span class=\"rank\">23.</span></td>      <td valign=\"top\" class=\"votelinks\"><center><a id='up_22667296' href='vote?id=22667296&amp;how=up&amp;goto=news'><div class='votearrow' title='upvote'></div></a></center></td><td class=\"title\"><a href=\"https://www.citylab.com/life/2015/12/the-invention-of-telecommuting/418047/\" class=\"storylink\">The Invention of Telecommuting (2015)</a><span class=\"sitebit comhead\"> (<a href=\"from?site=citylab.com\"><span class=\"sitestr\">citylab.com</span></a>)</span></td></tr><tr><td colspan=\"2\"></td><td class=\"subtext\">\n",
            "        <span class=\"score\" id=\"score_22667296\">28 points</span> by <a href=\"user?id=onemind\" class=\"hnuser\">onemind</a> <span class=\"age\"><a href=\"item?id=22667296\">8 hours ago</a></span> <span id=\"unv_22667296\"></span> | <a href=\"hide?id=22667296&amp;goto=news\">hide</a> | <a href=\"item?id=22667296\">discuss</a>              </td></tr>\n",
            "      <tr class=\"spacer\" style=\"height:5px\"></tr>\n",
            "                <tr class='athing' id='22651646'>\n",
            "      <td align=\"right\" valign=\"top\" class=\"title\"><span class=\"rank\">24.</span></td>      <td valign=\"top\" class=\"votelinks\"><center><a id='up_22651646' href='vote?id=22651646&amp;how=up&amp;goto=news'><div class='votearrow' title='upvote'></div></a></center></td><td class=\"title\"><a href=\"https://onlinelibrary.wiley.com/doi/abs/10.1111/eci.13222\" class=\"storylink\">Covid-19: the harms of exaggerated information and non‐evidence‐based measures</a><span class=\"sitebit comhead\"> (<a href=\"from?site=wiley.com\"><span class=\"sitestr\">wiley.com</span></a>)</span></td></tr><tr><td colspan=\"2\"></td><td class=\"subtext\">\n",
            "        <span class=\"score\" id=\"score_22651646\">161 points</span> by <a href=\"user?id=tomerico\" class=\"hnuser\">tomerico</a> <span class=\"age\"><a href=\"item?id=22651646\">10 hours ago</a></span> <span id=\"unv_22651646\"></span> | <a href=\"hide?id=22651646&amp;goto=news\">hide</a> | <a href=\"item?id=22651646\">297&nbsp;comments</a>              </td></tr>\n",
            "      <tr class=\"spacer\" style=\"height:5px\"></tr>\n",
            "                <tr class='athing' id='22671681'>\n",
            "      <td align=\"right\" valign=\"top\" class=\"title\"><span class=\"rank\">25.</span></td>      <td valign=\"top\" class=\"votelinks\"><center><a id='up_22671681' href='vote?id=22671681&amp;how=up&amp;goto=news'><div class='votearrow' title='upvote'></div></a></center></td><td class=\"title\"><a href=\"https://www.npr.org/sections/health-shots/2020/02/27/807743274/researchers-step-up-efforts-to-develop-a-universal-flu-vaccine\" class=\"storylink\">Researchers Step Up Efforts to Develop a 'Universal' Flu Vaccine</a><span class=\"sitebit comhead\"> (<a href=\"from?site=npr.org\"><span class=\"sitestr\">npr.org</span></a>)</span></td></tr><tr><td colspan=\"2\"></td><td class=\"subtext\">\n",
            "        <span class=\"score\" id=\"score_22671681\">49 points</span> by <a href=\"user?id=js2\" class=\"hnuser\">js2</a> <span class=\"age\"><a href=\"item?id=22671681\">7 hours ago</a></span> <span id=\"unv_22671681\"></span> | <a href=\"hide?id=22671681&amp;goto=news\">hide</a> | <a href=\"item?id=22671681\">11&nbsp;comments</a>              </td></tr>\n",
            "      <tr class=\"spacer\" style=\"height:5px\"></tr>\n",
            "                <tr class='athing' id='22673315'>\n",
            "      <td align=\"right\" valign=\"top\" class=\"title\"><span class=\"rank\">26.</span></td>      <td valign=\"top\" class=\"votelinks\"><center><a id='up_22673315' href='vote?id=22673315&amp;how=up&amp;goto=news'><div class='votearrow' title='upvote'></div></a></center></td><td class=\"title\"><a href=\"https://www.reuters.com/article/us-health-coronavirus-who-hack-exclusive/exclusive-elite-hackers-target-who-as-coronavirus-cyberattacks-spike-idUSKBN21A3BN\" class=\"storylink\">Hackers target WHO as coronavirus cyberattacks spike</a><span class=\"sitebit comhead\"> (<a href=\"from?site=reuters.com\"><span class=\"sitestr\">reuters.com</span></a>)</span></td></tr><tr><td colspan=\"2\"></td><td class=\"subtext\">\n",
            "        <span class=\"score\" id=\"score_22673315\">20 points</span> by <a href=\"user?id=Quanttek\" class=\"hnuser\">Quanttek</a> <span class=\"age\"><a href=\"item?id=22673315\">1 hour ago</a></span> <span id=\"unv_22673315\"></span> | <a href=\"hide?id=22673315&amp;goto=news\">hide</a> | <a href=\"item?id=22673315\">6&nbsp;comments</a>              </td></tr>\n",
            "      <tr class=\"spacer\" style=\"height:5px\"></tr>\n",
            "                <tr class='athing' id='22667025'>\n",
            "      <td align=\"right\" valign=\"top\" class=\"title\"><span class=\"rank\">27.</span></td>      <td valign=\"top\" class=\"votelinks\"><center><a id='up_22667025' href='vote?id=22667025&amp;how=up&amp;goto=news'><div class='votearrow' title='upvote'></div></a></center></td><td class=\"title\"><a href=\"https://interconnected.blog/why-is-facebook-not-in-the-cloud-business/\" class=\"storylink\">Why Is Facebook Not in the Cloud Business?</a><span class=\"sitebit comhead\"> (<a href=\"from?site=interconnected.blog\"><span class=\"sitestr\">interconnected.blog</span></a>)</span></td></tr><tr><td colspan=\"2\"></td><td class=\"subtext\">\n",
            "        <span class=\"score\" id=\"score_22667025\">281 points</span> by <a href=\"user?id=ceohockey60\" class=\"hnuser\">ceohockey60</a> <span class=\"age\"><a href=\"item?id=22667025\">16 hours ago</a></span> <span id=\"unv_22667025\"></span> | <a href=\"hide?id=22667025&amp;goto=news\">hide</a> | <a href=\"item?id=22667025\">287&nbsp;comments</a>              </td></tr>\n",
            "      <tr class=\"spacer\" style=\"height:5px\"></tr>\n",
            "                <tr class='athing' id='22670574'>\n",
            "      <td align=\"right\" valign=\"top\" class=\"title\"><span class=\"rank\">28.</span></td>      <td valign=\"top\" class=\"votelinks\"><center><a id='up_22670574' href='vote?id=22670574&amp;how=up&amp;goto=news'><div class='votearrow' title='upvote'></div></a></center></td><td class=\"title\"><a href=\"https://kunle.app/march-2020-vertical-banks.html\" class=\"storylink\" rel=\"nofollow\">Vertical Neobanks</a><span class=\"sitebit comhead\"> (<a href=\"from?site=kunle.app\"><span class=\"sitestr\">kunle.app</span></a>)</span></td></tr><tr><td colspan=\"2\"></td><td class=\"subtext\">\n",
            "        <span class=\"score\" id=\"score_22670574\">9 points</span> by <a href=\"user?id=kunle\" class=\"hnuser\">kunle</a> <span class=\"age\"><a href=\"item?id=22670574\">5 hours ago</a></span> <span id=\"unv_22670574\"></span> | <a href=\"hide?id=22670574&amp;goto=news\">hide</a> | <a href=\"item?id=22670574\">2&nbsp;comments</a>              </td></tr>\n",
            "      <tr class=\"spacer\" style=\"height:5px\"></tr>\n",
            "                <tr class='athing' id='22672142'>\n",
            "      <td align=\"right\" valign=\"top\" class=\"title\"><span class=\"rank\">29.</span></td>      <td valign=\"top\" class=\"votelinks\"><center><a id='up_22672142' href='vote?id=22672142&amp;how=up&amp;goto=news'><div class='votearrow' title='upvote'></div></a></center></td><td class=\"title\"><a href=\"https://github.com/posce/posce\" class=\"storylink\">Show HN: Posce, a note-taking toolkit for your command-line</a><span class=\"sitebit comhead\"> (<a href=\"from?site=github.com\"><span class=\"sitestr\">github.com</span></a>)</span></td></tr><tr><td colspan=\"2\"></td><td class=\"subtext\">\n",
            "        <span class=\"score\" id=\"score_22672142\">9 points</span> by <a href=\"user?id=swidi\" class=\"hnuser\">swidi</a> <span class=\"age\"><a href=\"item?id=22672142\">6 hours ago</a></span> <span id=\"unv_22672142\"></span> | <a href=\"hide?id=22672142&amp;goto=news\">hide</a> | <a href=\"item?id=22672142\">7&nbsp;comments</a>              </td></tr>\n",
            "      <tr class=\"spacer\" style=\"height:5px\"></tr>\n",
            "                <tr class='athing' id='22670716'>\n",
            "      <td align=\"right\" valign=\"top\" class=\"title\"><span class=\"rank\">30.</span></td>      <td valign=\"top\" class=\"votelinks\"><center><a id='up_22670716' href='vote?id=22670716&amp;how=up&amp;goto=news'><div class='votearrow' title='upvote'></div></a></center></td><td class=\"title\"><a href=\"https://www.theguardian.com/books/2020/mar/19/history-solitude-david-vincent-biography-loneliness-fay-bound-alberti-review\" class=\"storylink\" rel=\"nofollow\">A history of solitude and a biography of loneliness</a><span class=\"sitebit comhead\"> (<a href=\"from?site=theguardian.com\"><span class=\"sitestr\">theguardian.com</span></a>)</span></td></tr><tr><td colspan=\"2\"></td><td class=\"subtext\">\n",
            "        <span class=\"score\" id=\"score_22670716\">3 points</span> by <a href=\"user?id=amanuensis\" class=\"hnuser\">amanuensis</a> <span class=\"age\"><a href=\"item?id=22670716\">3 hours ago</a></span> <span id=\"unv_22670716\"></span> | <a href=\"hide?id=22670716&amp;goto=news\">hide</a> | <a href=\"item?id=22670716\">discuss</a>              </td></tr>\n",
            "      <tr class=\"spacer\" style=\"height:5px\"></tr>\n",
            "            <tr class=\"morespace\" style=\"height:10px\"></tr><tr><td colspan=\"2\"></td><td class=\"title\"><a href=\"news?p=2\" class=\"morelink\" rel=\"next\">More</a></td></tr>\n",
            "  </table>\n",
            "</td></tr>\n",
            "<tr><td><img src=\"s.gif\" height=\"10\" width=\"0\"><table width=\"100%\" cellspacing=\"0\" cellpadding=\"1\"><tr><td bgcolor=\"#ff6600\"></td></tr></table><br><center><a href=\"https://www.ycombinator.com/apply/\">\n",
            "        Applications are open for YC Summer 2020\n",
            "      </a></center><br><center><span class=\"yclinks\"><a href=\"newsguidelines.html\">Guidelines</a>\n",
            "        | <a href=\"newsfaq.html\">FAQ</a>\n",
            "        | <a href=\"mailto:hn@ycombinator.com\">Support</a>\n",
            "        | <a href=\"https://github.com/HackerNews/API\">API</a>\n",
            "        | <a href=\"security.html\">Security</a>\n",
            "        | <a href=\"lists\">Lists</a>\n",
            "        | <a href=\"bookmarklet.html\" rel=\"nofollow\">Bookmarklet</a>\n",
            "        | <a href=\"http://www.ycombinator.com/legal/\">Legal</a>\n",
            "        | <a href=\"http://www.ycombinator.com/apply/\">Apply to YC</a>\n",
            "        | <a href=\"mailto:hn@ycombinator.com\">Contact</a></span><br><br><form method=\"get\" action=\"//hn.algolia.com/\">Search:\n",
            "          <input type=\"text\" name=\"q\" value=\"\" size=\"17\" autocorrect=\"off\" spellcheck=\"false\" autocapitalize=\"off\" autocomplete=\"false\"></form>\n",
            "            </center></td></tr>\n",
            "      </table></center></body><script type='text/javascript' src='hn.js?aFHNeAZxwR2iyTLJ4yw2'></script></html>\n",
            "\n"
          ],
          "name": "stdout"
        }
      ]
    },
    {
      "cell_type": "code",
      "metadata": {
        "id": "3uO8Q4OP1zz2",
        "colab_type": "code",
        "colab": {
          "base_uri": "https://localhost:8080/",
          "height": 1000
        },
        "outputId": "4aad9805-2a79-4e87-c4e7-45baa9c0974a"
      },
      "source": [
        "import re\n",
        "\n",
        "# Remove HTML tags using RegEx\n",
        "pattern = re.compile(r'<.*?>')  # tags look like <...>\n",
        "print(pattern.sub('', r.text))  # replace them with blank"
      ],
      "execution_count": 13,
      "outputs": [
        {
          "output_type": "stream",
          "text": [
            "\n",
            "        \n",
            "          \n",
            "        Hacker News\n",
            "        \n",
            "                  Hacker News\n",
            "              new | past | comments | ask | show | jobs | submit            \n",
            "                              login\n",
            "                          \n",
            "              \n",
            "\n",
            "              \n",
            "      1.      Setting up Git identities (micah.soy)\n",
            "        103 points by micahhenning 4 hours ago  | hide | 28&nbsp;comments              \n",
            "      \n",
            "                \n",
            "      2.      Show HN: Excel-like table editing for Markdown (documentnode.io)\n",
            "        135 points by jakew 5 hours ago  | hide | 43&nbsp;comments              \n",
            "      \n",
            "                \n",
            "      3.      Concurrent Programming, with Examples (begriffs.com)\n",
            "        129 points by begriffs 6 hours ago  | hide | 18&nbsp;comments              \n",
            "      \n",
            "                \n",
            "      4.      Windows code-execution zeroday is under active exploit, Microsoft warns (arstechnica.com)\n",
            "        397 points by vo2maxer 14 hours ago  | hide | 136&nbsp;comments              \n",
            "      \n",
            "                \n",
            "      5.      Ask HN: Who is hiring right now?\n",
            "        810 points by whoishiring 18 hours ago  | hide | 541&nbsp;comments              \n",
            "      \n",
            "                \n",
            "      6.      Don’t bail out the cruise industry (theverge.com)\n",
            "        209 points by nobita 5 hours ago  | hide | 94&nbsp;comments              \n",
            "      \n",
            "                \n",
            "      7.      How toilet paper is made (2014) [video] (youtube.com)\n",
            "        56 points by jonbaer 5 hours ago  | hide | 36&nbsp;comments              \n",
            "      \n",
            "                \n",
            "      8.      The Great Toilet Paper Scare of 1973 (2014) (priceonomics.com)\n",
            "        126 points by luu 11 hours ago  | hide | 128&nbsp;comments              \n",
            "      \n",
            "                \n",
            "      9.      Svelte Is Unappealing (ryanprior.com)\n",
            "        47 points by pcr910303 7 hours ago  | hide | 37&nbsp;comments              \n",
            "      \n",
            "                \n",
            "      10.      Why Don’t We Use Chemical Weapons Anymore? (acoup.blog)\n",
            "        134 points by nkurz 12 hours ago  | hide | 107&nbsp;comments              \n",
            "      \n",
            "                \n",
            "      11.      Taiwan's new 'electronic fence' for quarantines leads wave of virus monitoring (reuters.com)\n",
            "        208 points by imartin2k 15 hours ago  | hide | 166&nbsp;comments              \n",
            "      \n",
            "                \n",
            "      12.      Building an online coaching agency for IELTS test prep (productizedstartups.com)\n",
            "        33 points by vinrob92 6 hours ago  | hide | 8&nbsp;comments              \n",
            "      \n",
            "                \n",
            "      13.      Bashible: An Ansible-inspired deployment/automation tool written in Bash DSL (github.com)\n",
            "        105 points by vitro 12 hours ago  | hide | 64&nbsp;comments              \n",
            "      \n",
            "                \n",
            "      14.      God Helmet (wikipedia.org)\n",
            "        41 points by elierotenberg 7 hours ago  | hide | 14&nbsp;comments              \n",
            "      \n",
            "                \n",
            "      15.      Reading \"Error Detecting and Error Correcting Codes\" (2014) (ballingt.com)\n",
            "        22 points by luu 6 hours ago  | hide | discuss              \n",
            "      \n",
            "                \n",
            "      16.      Launch HN: Taiv (YC W20) – Replace TV commercials with content people care about\n",
            "        145 points by npalansky 17 hours ago  | hide | 104&nbsp;comments              \n",
            "      \n",
            "                \n",
            "      17.      Tetrahedral Tessellation Experiments (shaderoo.org)\n",
            "        27 points by flockaroo 9 hours ago  | hide | 8&nbsp;comments              \n",
            "      \n",
            "                \n",
            "      18.      Ask HN: Smallest laptop that is decent for coding?\n",
            "        13 points by krm01 50 minutes ago  | hide | 53&nbsp;comments              \n",
            "      \n",
            "                \n",
            "      19.      Jitsi Meet: An open source alternative to Zoom (jit.si)\n",
            "        724 points by LockAndLol 11 hours ago  | hide | 227&nbsp;comments              \n",
            "      \n",
            "                \n",
            "      20.      First hydroxychloroquine randomized controlled trial: results disappointing (twitter.com)\n",
            "        124 points by aaavl2821 8 hours ago  | hide | 45&nbsp;comments              \n",
            "      \n",
            "                \n",
            "      21.      How to Make a Thaumatrope [video] (youtube.com)\n",
            "        3 points by brudgers 2 hours ago  | hide | discuss              \n",
            "      \n",
            "                \n",
            "      22.      Menelaus: A firmware for the Atreus keyboard, written in Microscheme (technomancy.us)\n",
            "        39 points by lelf 10 hours ago  | hide | 8&nbsp;comments              \n",
            "      \n",
            "                \n",
            "      23.      The Invention of Telecommuting (2015) (citylab.com)\n",
            "        28 points by onemind 8 hours ago  | hide | discuss              \n",
            "      \n",
            "                \n",
            "      24.      Covid-19: the harms of exaggerated information and non‐evidence‐based measures (wiley.com)\n",
            "        161 points by tomerico 10 hours ago  | hide | 297&nbsp;comments              \n",
            "      \n",
            "                \n",
            "      25.      Researchers Step Up Efforts to Develop a 'Universal' Flu Vaccine (npr.org)\n",
            "        49 points by js2 7 hours ago  | hide | 11&nbsp;comments              \n",
            "      \n",
            "                \n",
            "      26.      Hackers target WHO as coronavirus cyberattacks spike (reuters.com)\n",
            "        20 points by Quanttek 1 hour ago  | hide | 6&nbsp;comments              \n",
            "      \n",
            "                \n",
            "      27.      Why Is Facebook Not in the Cloud Business? (interconnected.blog)\n",
            "        281 points by ceohockey60 16 hours ago  | hide | 287&nbsp;comments              \n",
            "      \n",
            "                \n",
            "      28.      Vertical Neobanks (kunle.app)\n",
            "        9 points by kunle 5 hours ago  | hide | 2&nbsp;comments              \n",
            "      \n",
            "                \n",
            "      29.      Show HN: Posce, a note-taking toolkit for your command-line (github.com)\n",
            "        9 points by swidi 6 hours ago  | hide | 7&nbsp;comments              \n",
            "      \n",
            "                \n",
            "      30.      A history of solitude and a biography of loneliness (theguardian.com)\n",
            "        3 points by amanuensis 3 hours ago  | hide | discuss              \n",
            "      \n",
            "            More\n",
            "  \n",
            "\n",
            "\n",
            "        Applications are open for YC Summer 2020\n",
            "      Guidelines\n",
            "        | FAQ\n",
            "        | Support\n",
            "        | API\n",
            "        | Security\n",
            "        | Lists\n",
            "        | Bookmarklet\n",
            "        | Legal\n",
            "        | Apply to YC\n",
            "        | ContactSearch:\n",
            "          \n",
            "            \n",
            "      \n",
            "\n"
          ],
          "name": "stdout"
        }
      ]
    },
    {
      "cell_type": "code",
      "metadata": {
        "id": "NMHp-vnD1zz6",
        "colab_type": "code",
        "colab": {
          "base_uri": "https://localhost:8080/",
          "height": 1000
        },
        "outputId": "ff7eb9f7-26de-47d8-97a1-7e0c0b7237e2"
      },
      "source": [
        "from bs4 import BeautifulSoup\n",
        "\n",
        "# Remove HTML tags using Beautiful Soup library\n",
        "soup = BeautifulSoup(r.text, \"html5lib\")\n",
        "print(soup.get_text())"
      ],
      "execution_count": 14,
      "outputs": [
        {
          "output_type": "stream",
          "text": [
            "\n",
            "        \n",
            "          \n",
            "        Hacker News\n",
            "        \n",
            "                  Hacker News\n",
            "              new | past | comments | ask | show | jobs | submit            \n",
            "                              login\n",
            "                          \n",
            "              \n",
            "\n",
            "              \n",
            "      1.      Setting up Git identities (micah.soy)\n",
            "        103 points by micahhenning 4 hours ago  | hide | 28 comments              \n",
            "      \n",
            "                \n",
            "      2.      Show HN: Excel-like table editing for Markdown (documentnode.io)\n",
            "        135 points by jakew 5 hours ago  | hide | 43 comments              \n",
            "      \n",
            "                \n",
            "      3.      Concurrent Programming, with Examples (begriffs.com)\n",
            "        129 points by begriffs 6 hours ago  | hide | 18 comments              \n",
            "      \n",
            "                \n",
            "      4.      Windows code-execution zeroday is under active exploit, Microsoft warns (arstechnica.com)\n",
            "        397 points by vo2maxer 14 hours ago  | hide | 136 comments              \n",
            "      \n",
            "                \n",
            "      5.      Ask HN: Who is hiring right now?\n",
            "        810 points by whoishiring 18 hours ago  | hide | 541 comments              \n",
            "      \n",
            "                \n",
            "      6.      Don’t bail out the cruise industry (theverge.com)\n",
            "        209 points by nobita 5 hours ago  | hide | 94 comments              \n",
            "      \n",
            "                \n",
            "      7.      How toilet paper is made (2014) [video] (youtube.com)\n",
            "        56 points by jonbaer 5 hours ago  | hide | 36 comments              \n",
            "      \n",
            "                \n",
            "      8.      The Great Toilet Paper Scare of 1973 (2014) (priceonomics.com)\n",
            "        126 points by luu 11 hours ago  | hide | 128 comments              \n",
            "      \n",
            "                \n",
            "      9.      Svelte Is Unappealing (ryanprior.com)\n",
            "        47 points by pcr910303 7 hours ago  | hide | 37 comments              \n",
            "      \n",
            "                \n",
            "      10.      Why Don’t We Use Chemical Weapons Anymore? (acoup.blog)\n",
            "        134 points by nkurz 12 hours ago  | hide | 107 comments              \n",
            "      \n",
            "                \n",
            "      11.      Taiwan's new 'electronic fence' for quarantines leads wave of virus monitoring (reuters.com)\n",
            "        208 points by imartin2k 15 hours ago  | hide | 166 comments              \n",
            "      \n",
            "                \n",
            "      12.      Building an online coaching agency for IELTS test prep (productizedstartups.com)\n",
            "        33 points by vinrob92 6 hours ago  | hide | 8 comments              \n",
            "      \n",
            "                \n",
            "      13.      Bashible: An Ansible-inspired deployment/automation tool written in Bash DSL (github.com)\n",
            "        105 points by vitro 12 hours ago  | hide | 64 comments              \n",
            "      \n",
            "                \n",
            "      14.      God Helmet (wikipedia.org)\n",
            "        41 points by elierotenberg 7 hours ago  | hide | 14 comments              \n",
            "      \n",
            "                \n",
            "      15.      Reading \"Error Detecting and Error Correcting Codes\" (2014) (ballingt.com)\n",
            "        22 points by luu 6 hours ago  | hide | discuss              \n",
            "      \n",
            "                \n",
            "      16.      Launch HN: Taiv (YC W20) – Replace TV commercials with content people care about\n",
            "        145 points by npalansky 17 hours ago  | hide | 104 comments              \n",
            "      \n",
            "                \n",
            "      17.      Tetrahedral Tessellation Experiments (shaderoo.org)\n",
            "        27 points by flockaroo 9 hours ago  | hide | 8 comments              \n",
            "      \n",
            "                \n",
            "      18.      Ask HN: Smallest laptop that is decent for coding?\n",
            "        13 points by krm01 50 minutes ago  | hide | 53 comments              \n",
            "      \n",
            "                \n",
            "      19.      Jitsi Meet: An open source alternative to Zoom (jit.si)\n",
            "        724 points by LockAndLol 11 hours ago  | hide | 227 comments              \n",
            "      \n",
            "                \n",
            "      20.      First hydroxychloroquine randomized controlled trial: results disappointing (twitter.com)\n",
            "        124 points by aaavl2821 8 hours ago  | hide | 45 comments              \n",
            "      \n",
            "                \n",
            "      21.      How to Make a Thaumatrope [video] (youtube.com)\n",
            "        3 points by brudgers 2 hours ago  | hide | discuss              \n",
            "      \n",
            "                \n",
            "      22.      Menelaus: A firmware for the Atreus keyboard, written in Microscheme (technomancy.us)\n",
            "        39 points by lelf 10 hours ago  | hide | 8 comments              \n",
            "      \n",
            "                \n",
            "      23.      The Invention of Telecommuting (2015) (citylab.com)\n",
            "        28 points by onemind 8 hours ago  | hide | discuss              \n",
            "      \n",
            "                \n",
            "      24.      Covid-19: the harms of exaggerated information and non‐evidence‐based measures (wiley.com)\n",
            "        161 points by tomerico 10 hours ago  | hide | 297 comments              \n",
            "      \n",
            "                \n",
            "      25.      Researchers Step Up Efforts to Develop a 'Universal' Flu Vaccine (npr.org)\n",
            "        49 points by js2 7 hours ago  | hide | 11 comments              \n",
            "      \n",
            "                \n",
            "      26.      Hackers target WHO as coronavirus cyberattacks spike (reuters.com)\n",
            "        20 points by Quanttek 1 hour ago  | hide | 6 comments              \n",
            "      \n",
            "                \n",
            "      27.      Why Is Facebook Not in the Cloud Business? (interconnected.blog)\n",
            "        281 points by ceohockey60 16 hours ago  | hide | 287 comments              \n",
            "      \n",
            "                \n",
            "      28.      Vertical Neobanks (kunle.app)\n",
            "        9 points by kunle 5 hours ago  | hide | 2 comments              \n",
            "      \n",
            "                \n",
            "      29.      Show HN: Posce, a note-taking toolkit for your command-line (github.com)\n",
            "        9 points by swidi 6 hours ago  | hide | 7 comments              \n",
            "      \n",
            "                \n",
            "      30.      A history of solitude and a biography of loneliness (theguardian.com)\n",
            "        3 points by amanuensis 3 hours ago  | hide | discuss              \n",
            "      \n",
            "            More\n",
            "  \n",
            "\n",
            "\n",
            "        Applications are open for YC Summer 2020\n",
            "      Guidelines\n",
            "        | FAQ\n",
            "        | Support\n",
            "        | API\n",
            "        | Security\n",
            "        | Lists\n",
            "        | Bookmarklet\n",
            "        | Legal\n",
            "        | Apply to YC\n",
            "        | ContactSearch:\n",
            "          \n",
            "            \n",
            "      \n",
            "\n"
          ],
          "name": "stdout"
        }
      ]
    },
    {
      "cell_type": "code",
      "metadata": {
        "scrolled": true,
        "id": "0HKNfq5i1zz-",
        "colab_type": "code",
        "colab": {
          "base_uri": "https://localhost:8080/",
          "height": 71
        },
        "outputId": "87bd9b86-081a-48ef-b2e0-4bab4a5c0452"
      },
      "source": [
        "# Find all articles\n",
        "summaries = soup.find_all( \"tr\", class_=\"athing\")\n",
        "summaries[0]"
      ],
      "execution_count": 16,
      "outputs": [
        {
          "output_type": "execute_result",
          "data": {
            "text/plain": [
              "<tr class=\"athing\" id=\"22672491\">\n",
              "      <td align=\"right\" class=\"title\" valign=\"top\"><span class=\"rank\">1.</span></td>      <td class=\"votelinks\" valign=\"top\"><center><a href=\"vote?id=22672491&amp;how=up&amp;goto=news\" id=\"up_22672491\"><div class=\"votearrow\" title=\"upvote\"></div></a></center></td><td class=\"title\"><a class=\"storylink\" href=\"https://www.micah.soy/posts/setting-up-git-identities/\">Setting up Git identities</a><span class=\"sitebit comhead\"> (<a href=\"from?site=micah.soy\"><span class=\"sitestr\">micah.soy</span></a>)</span></td></tr>"
            ]
          },
          "metadata": {
            "tags": []
          },
          "execution_count": 16
        }
      ]
    },
    {
      "cell_type": "code",
      "metadata": {
        "id": "qrx1_qHT1z0B",
        "colab_type": "code",
        "colab": {
          "base_uri": "https://localhost:8080/",
          "height": 34
        },
        "outputId": "fce75a71-9665-4e93-a0ee-637f2b3d5918"
      },
      "source": [
        "# Extract title\n",
        "summaries[0].find(\"a\", class_=\"storylink\").get_text().strip()"
      ],
      "execution_count": 17,
      "outputs": [
        {
          "output_type": "execute_result",
          "data": {
            "text/plain": [
              "'Setting up Git identities'"
            ]
          },
          "metadata": {
            "tags": []
          },
          "execution_count": 17
        }
      ]
    },
    {
      "cell_type": "code",
      "metadata": {
        "id": "PbhLJNn91z0E",
        "colab_type": "code",
        "colab": {
          "base_uri": "https://localhost:8080/",
          "height": 51
        },
        "outputId": "05110577-0528-4f3f-8466-79c0ca14493b"
      },
      "source": [
        "# Find all articles, extract titles\n",
        "articles = []\n",
        "summaries = soup.find_all(\"tr\", class_=\"athing\")\n",
        "for summary in summaries:\n",
        "    title = summary.find(\"a\", class_=\"storylink\").get_text().strip()\n",
        "    articles.append((title))\n",
        "\n",
        "print(len(articles), \"Article summaries found. Sample:\")\n",
        "print(articles[0])"
      ],
      "execution_count": 18,
      "outputs": [
        {
          "output_type": "stream",
          "text": [
            "30 Article summaries found. Sample:\n",
            "Setting up Git identities\n"
          ],
          "name": "stdout"
        }
      ]
    },
    {
      "cell_type": "markdown",
      "metadata": {
        "collapsed": true,
        "id": "RCCTB6FR1z0H",
        "colab_type": "text"
      },
      "source": [
        "## Normalization"
      ]
    },
    {
      "cell_type": "markdown",
      "metadata": {
        "id": "vX2eEzVL1z0I",
        "colab_type": "text"
      },
      "source": [
        "### Case Normalization"
      ]
    },
    {
      "cell_type": "code",
      "metadata": {
        "id": "ShjdFTmh1z0J",
        "colab_type": "code",
        "colab": {
          "base_uri": "https://localhost:8080/",
          "height": 54
        },
        "outputId": "5f1c65f4-8cc4-4a7a-c390-75214b699202"
      },
      "source": [
        "# Sample text\n",
        "text = \"The first time you see The Second Renaissance it may look boring. Look at it at least twice and definitely watch part 2. It will change your view of the matrix. Are the human people the ones who started the war ? Is AI a bad thing ?\"\n",
        "print(text)"
      ],
      "execution_count": 23,
      "outputs": [
        {
          "output_type": "stream",
          "text": [
            "The first time you see The Second Renaissance it may look boring. Look at it at least twice and definitely watch part 2. It will change your view of the matrix. Are the human people the ones who started the war ? Is AI a bad thing ?\n"
          ],
          "name": "stdout"
        }
      ]
    },
    {
      "cell_type": "code",
      "metadata": {
        "id": "tTmgtrKh1z0M",
        "colab_type": "code",
        "colab": {
          "base_uri": "https://localhost:8080/",
          "height": 54
        },
        "outputId": "a560e027-3648-47ce-bcaf-23db4a64b504"
      },
      "source": [
        "# Convert to lowercase\n",
        "text = text.lower() \n",
        "print(text)"
      ],
      "execution_count": 24,
      "outputs": [
        {
          "output_type": "stream",
          "text": [
            "the first time you see the second renaissance it may look boring. look at it at least twice and definitely watch part 2. it will change your view of the matrix. are the human people the ones who started the war ? is ai a bad thing ?\n"
          ],
          "name": "stdout"
        }
      ]
    },
    {
      "cell_type": "markdown",
      "metadata": {
        "id": "lik15d8i1z0P",
        "colab_type": "text"
      },
      "source": [
        "### Punctuation Removal"
      ]
    },
    {
      "cell_type": "code",
      "metadata": {
        "id": "Typ8KmM71z0Q",
        "colab_type": "code",
        "colab": {
          "base_uri": "https://localhost:8080/",
          "height": 54
        },
        "outputId": "16fb84a9-d927-4e72-967b-fb5f7a80c590"
      },
      "source": [
        "import re\n",
        "\n",
        "# Remove punctuation characters\n",
        "pattern = re.compile(r\"[^a-zA-Z0-9]\")\n",
        "text = pattern.sub(\" \", text)\n",
        "#text = re.sub(, \" \", text) \n",
        "print(text)"
      ],
      "execution_count": 26,
      "outputs": [
        {
          "output_type": "stream",
          "text": [
            "the first time you see the second renaissance it may look boring  look at it at least twice and definitely watch part 2  it will change your view of the matrix  are the human people the ones who started the war   is ai a bad thing  \n"
          ],
          "name": "stdout"
        }
      ]
    },
    {
      "cell_type": "markdown",
      "metadata": {
        "id": "d6MHV2sK1z0S",
        "colab_type": "text"
      },
      "source": [
        "## Tokenization"
      ]
    },
    {
      "cell_type": "code",
      "metadata": {
        "id": "1oRdUMEL1z0T",
        "colab_type": "code",
        "colab": {
          "base_uri": "https://localhost:8080/",
          "height": 54
        },
        "outputId": "d9932e8b-11c9-49f1-e9e3-23d128651e4d"
      },
      "source": [
        "# Split text into tokens (words)\n",
        "words = text.split()\n",
        "print(words)"
      ],
      "execution_count": 27,
      "outputs": [
        {
          "output_type": "stream",
          "text": [
            "['the', 'first', 'time', 'you', 'see', 'the', 'second', 'renaissance', 'it', 'may', 'look', 'boring', 'look', 'at', 'it', 'at', 'least', 'twice', 'and', 'definitely', 'watch', 'part', '2', 'it', 'will', 'change', 'your', 'view', 'of', 'the', 'matrix', 'are', 'the', 'human', 'people', 'the', 'ones', 'who', 'started', 'the', 'war', 'is', 'ai', 'a', 'bad', 'thing']\n"
          ],
          "name": "stdout"
        }
      ]
    },
    {
      "cell_type": "markdown",
      "metadata": {
        "id": "zmldUlzt1z0W",
        "colab_type": "text"
      },
      "source": [
        "### NLTK: Natural Language ToolKit"
      ]
    },
    {
      "cell_type": "code",
      "metadata": {
        "id": "qzWuqhnR1z0X",
        "colab_type": "code",
        "colab": {}
      },
      "source": [
        "import os\n",
        "import nltk\n",
        "nltk.data.path.append(os.path.join(os.getcwd(), \"nltk_data\"))"
      ],
      "execution_count": 0,
      "outputs": []
    },
    {
      "cell_type": "code",
      "metadata": {
        "id": "vJNLlZbq1z0Z",
        "colab_type": "code",
        "colab": {
          "base_uri": "https://localhost:8080/",
          "height": 34
        },
        "outputId": "42851a43-5021-4840-b91c-6d685443814a"
      },
      "source": [
        "# Another sample text\n",
        "text = \"Dr. Smith graduated from the University of Washington. He later started an analytics firm called Lux, which catered to enterprise customers.\"\n",
        "print(text)"
      ],
      "execution_count": 32,
      "outputs": [
        {
          "output_type": "stream",
          "text": [
            "Dr. Smith graduated from the University of Washington. He later started an analytics firm called Lux, which catered to enterprise customers.\n"
          ],
          "name": "stdout"
        }
      ]
    },
    {
      "cell_type": "code",
      "metadata": {
        "id": "xVCa85OU1z0d",
        "colab_type": "code",
        "colab": {
          "base_uri": "https://localhost:8080/",
          "height": 54
        },
        "outputId": "c7489855-040a-4a9d-be4d-473ead70c6cc"
      },
      "source": [
        "from nltk.tokenize import word_tokenize\n",
        "\n",
        "# Split text into words using NLTK\n",
        "words = word_tokenize(text)\n",
        "print(words)"
      ],
      "execution_count": 33,
      "outputs": [
        {
          "output_type": "stream",
          "text": [
            "['Dr.', 'Smith', 'graduated', 'from', 'the', 'University', 'of', 'Washington', '.', 'He', 'later', 'started', 'an', 'analytics', 'firm', 'called', 'Lux', ',', 'which', 'catered', 'to', 'enterprise', 'customers', '.']\n"
          ],
          "name": "stdout"
        }
      ]
    },
    {
      "cell_type": "code",
      "metadata": {
        "id": "4d3s9jr81z0f",
        "colab_type": "code",
        "colab": {
          "base_uri": "https://localhost:8080/",
          "height": 34
        },
        "outputId": "e1cca2fb-5654-448f-a342-5d26949d1615"
      },
      "source": [
        "from nltk.tokenize import sent_tokenize\n",
        "\n",
        "# Split text into sentences\n",
        "sentences = sent_tokenize(text)\n",
        "print(sentences)"
      ],
      "execution_count": 34,
      "outputs": [
        {
          "output_type": "stream",
          "text": [
            "['Dr. Smith graduated from the University of Washington.', 'He later started an analytics firm called Lux, which catered to enterprise customers.']\n"
          ],
          "name": "stdout"
        }
      ]
    },
    {
      "cell_type": "code",
      "metadata": {
        "id": "7nwfuVEW1z0h",
        "colab_type": "code",
        "colab": {
          "base_uri": "https://localhost:8080/",
          "height": 54
        },
        "outputId": "0f0853c5-850f-4993-f93b-1326928403ec"
      },
      "source": [
        "# List stop words\n",
        "from nltk.corpus import stopwords\n",
        "print(stopwords.words(\"english\"))"
      ],
      "execution_count": 35,
      "outputs": [
        {
          "output_type": "stream",
          "text": [
            "['i', 'me', 'my', 'myself', 'we', 'our', 'ours', 'ourselves', 'you', \"you're\", \"you've\", \"you'll\", \"you'd\", 'your', 'yours', 'yourself', 'yourselves', 'he', 'him', 'his', 'himself', 'she', \"she's\", 'her', 'hers', 'herself', 'it', \"it's\", 'its', 'itself', 'they', 'them', 'their', 'theirs', 'themselves', 'what', 'which', 'who', 'whom', 'this', 'that', \"that'll\", 'these', 'those', 'am', 'is', 'are', 'was', 'were', 'be', 'been', 'being', 'have', 'has', 'had', 'having', 'do', 'does', 'did', 'doing', 'a', 'an', 'the', 'and', 'but', 'if', 'or', 'because', 'as', 'until', 'while', 'of', 'at', 'by', 'for', 'with', 'about', 'against', 'between', 'into', 'through', 'during', 'before', 'after', 'above', 'below', 'to', 'from', 'up', 'down', 'in', 'out', 'on', 'off', 'over', 'under', 'again', 'further', 'then', 'once', 'here', 'there', 'when', 'where', 'why', 'how', 'all', 'any', 'both', 'each', 'few', 'more', 'most', 'other', 'some', 'such', 'no', 'nor', 'not', 'only', 'own', 'same', 'so', 'than', 'too', 'very', 's', 't', 'can', 'will', 'just', 'don', \"don't\", 'should', \"should've\", 'now', 'd', 'll', 'm', 'o', 're', 've', 'y', 'ain', 'aren', \"aren't\", 'couldn', \"couldn't\", 'didn', \"didn't\", 'doesn', \"doesn't\", 'hadn', \"hadn't\", 'hasn', \"hasn't\", 'haven', \"haven't\", 'isn', \"isn't\", 'ma', 'mightn', \"mightn't\", 'mustn', \"mustn't\", 'needn', \"needn't\", 'shan', \"shan't\", 'shouldn', \"shouldn't\", 'wasn', \"wasn't\", 'weren', \"weren't\", 'won', \"won't\", 'wouldn', \"wouldn't\"]\n"
          ],
          "name": "stdout"
        }
      ]
    },
    {
      "cell_type": "code",
      "metadata": {
        "id": "UZ_n5TCT1z0k",
        "colab_type": "code",
        "colab": {
          "base_uri": "https://localhost:8080/",
          "height": 54
        },
        "outputId": "29fb4796-ed72-4c58-9795-ae4e60253d8a"
      },
      "source": [
        "# Reset text\n",
        "text = \"The first time you see The Second Renaissance it may look boring. Look at it at least twice and definitely watch part 2. It will change your view of the matrix. Are the human people the ones who started the war ? Is AI a bad thing ?\"\n",
        "\n",
        "# Normalize it\n",
        "text = re.sub(r\"[^a-zA-Z0-9]\", \" \", text.lower())\n",
        "\n",
        "# Tokenize it\n",
        "words = text.split()\n",
        "print(words)"
      ],
      "execution_count": 36,
      "outputs": [
        {
          "output_type": "stream",
          "text": [
            "['the', 'first', 'time', 'you', 'see', 'the', 'second', 'renaissance', 'it', 'may', 'look', 'boring', 'look', 'at', 'it', 'at', 'least', 'twice', 'and', 'definitely', 'watch', 'part', '2', 'it', 'will', 'change', 'your', 'view', 'of', 'the', 'matrix', 'are', 'the', 'human', 'people', 'the', 'ones', 'who', 'started', 'the', 'war', 'is', 'ai', 'a', 'bad', 'thing']\n"
          ],
          "name": "stdout"
        }
      ]
    },
    {
      "cell_type": "code",
      "metadata": {
        "id": "qwfzfGRb1z0n",
        "colab_type": "code",
        "colab": {
          "base_uri": "https://localhost:8080/",
          "height": 54
        },
        "outputId": "0d4e8e39-5bb4-4cec-88e2-51cabb1a3431"
      },
      "source": [
        "# Remove stop words\n",
        "words = [w for w in words if w not in stopwords.words(\"english\")]\n",
        "print(words)"
      ],
      "execution_count": 37,
      "outputs": [
        {
          "output_type": "stream",
          "text": [
            "['first', 'time', 'see', 'second', 'renaissance', 'may', 'look', 'boring', 'look', 'least', 'twice', 'definitely', 'watch', 'part', '2', 'change', 'view', 'matrix', 'human', 'people', 'ones', 'started', 'war', 'ai', 'bad', 'thing']\n"
          ],
          "name": "stdout"
        }
      ]
    },
    {
      "cell_type": "markdown",
      "metadata": {
        "id": "ZAFskZsn1z0t",
        "colab_type": "text"
      },
      "source": [
        "## Stemming & Lemmatization\n",
        "\n",
        "### Stemming"
      ]
    },
    {
      "cell_type": "code",
      "metadata": {
        "id": "MSESw5tJ1z0u",
        "colab_type": "code",
        "colab": {
          "base_uri": "https://localhost:8080/",
          "height": 54
        },
        "outputId": "312114e7-9b69-4d50-b104-6cba3f786204"
      },
      "source": [
        "from nltk.stem.porter import PorterStemmer\n",
        "\n",
        "# Reduce words to their stems\n",
        "stemmed = [PorterStemmer().stem(w) for w in words]\n",
        "print(stemmed)"
      ],
      "execution_count": 39,
      "outputs": [
        {
          "output_type": "stream",
          "text": [
            "['first', 'time', 'see', 'second', 'renaiss', 'may', 'look', 'bore', 'look', 'least', 'twice', 'definit', 'watch', 'part', '2', 'chang', 'view', 'matrix', 'human', 'peopl', 'one', 'start', 'war', 'ai', 'bad', 'thing']\n"
          ],
          "name": "stdout"
        }
      ]
    },
    {
      "cell_type": "markdown",
      "metadata": {
        "id": "fNCfYHEN1z0w",
        "colab_type": "text"
      },
      "source": [
        "### Lemmatization"
      ]
    },
    {
      "cell_type": "code",
      "metadata": {
        "id": "pw8qUViA1z0x",
        "colab_type": "code",
        "colab": {}
      },
      "source": [
        "from nltk.stem.wordnet import WordNetLemmatizer\n",
        "\n",
        "# Reduce words to their root form\n",
        "lemmed = [WordNetLemmatizer().lemmatize(w) for w in words]\n",
        "print(lemmed)"
      ],
      "execution_count": 0,
      "outputs": []
    },
    {
      "cell_type": "code",
      "metadata": {
        "id": "OKMxxpuR1z00",
        "colab_type": "code",
        "colab": {}
      },
      "source": [
        "# Lemmatize verbs by specifying pos\n",
        "lemmed = [WordNetLemmatizer().lemmatize(w, pos='v') for w in lemmed]\n",
        "print(lemmed)"
      ],
      "execution_count": 0,
      "outputs": []
    },
    {
      "cell_type": "code",
      "metadata": {
        "id": "VKG9VgUj1z02",
        "colab_type": "code",
        "colab": {}
      },
      "source": [
        ""
      ],
      "execution_count": 0,
      "outputs": []
    }
  ]
}
